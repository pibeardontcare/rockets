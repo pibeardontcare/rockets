{
 "cells": [
  {
   "cell_type": "code",
   "execution_count": 3,
   "id": "e73e18f6-7b96-4ca0-8b75-2bde18bd53f3",
   "metadata": {},
   "outputs": [
    {
     "name": "stdout",
     "output_type": "stream",
     "text": [
      "Requirement already satisfied: pandas in /opt/anaconda3/lib/python3.12/site-packages (2.2.2)\n",
      "Collecting dash\n",
      "  Downloading dash-3.0.0-py3-none-any.whl.metadata (10 kB)\n",
      "Requirement already satisfied: numpy>=1.26.0 in /opt/anaconda3/lib/python3.12/site-packages (from pandas) (1.26.4)\n",
      "Requirement already satisfied: python-dateutil>=2.8.2 in /opt/anaconda3/lib/python3.12/site-packages (from pandas) (2.9.0.post0)\n",
      "Requirement already satisfied: pytz>=2020.1 in /opt/anaconda3/lib/python3.12/site-packages (from pandas) (2024.1)\n",
      "Requirement already satisfied: tzdata>=2022.7 in /opt/anaconda3/lib/python3.12/site-packages (from pandas) (2023.3)\n",
      "Requirement already satisfied: Flask<3.1,>=1.0.4 in /opt/anaconda3/lib/python3.12/site-packages (from dash) (3.0.3)\n",
      "Requirement already satisfied: Werkzeug<3.1 in /opt/anaconda3/lib/python3.12/site-packages (from dash) (3.0.3)\n",
      "Requirement already satisfied: plotly>=5.0.0 in /opt/anaconda3/lib/python3.12/site-packages (from dash) (5.22.0)\n",
      "Requirement already satisfied: importlib-metadata in /opt/anaconda3/lib/python3.12/site-packages (from dash) (7.0.1)\n",
      "Requirement already satisfied: typing-extensions>=4.1.1 in /opt/anaconda3/lib/python3.12/site-packages (from dash) (4.11.0)\n",
      "Requirement already satisfied: requests in /opt/anaconda3/lib/python3.12/site-packages (from dash) (2.32.2)\n",
      "Collecting retrying (from dash)\n",
      "  Downloading retrying-1.3.4-py3-none-any.whl.metadata (6.9 kB)\n",
      "Requirement already satisfied: nest-asyncio in /opt/anaconda3/lib/python3.12/site-packages (from dash) (1.6.0)\n",
      "Requirement already satisfied: setuptools in /opt/anaconda3/lib/python3.12/site-packages (from dash) (69.5.1)\n",
      "Collecting stringcase>=1.2.0 (from dash)\n",
      "  Downloading stringcase-1.2.0.tar.gz (3.0 kB)\n",
      "  Preparing metadata (setup.py) ... \u001b[?25ldone\n",
      "\u001b[?25hRequirement already satisfied: Jinja2>=3.1.2 in /opt/anaconda3/lib/python3.12/site-packages (from Flask<3.1,>=1.0.4->dash) (3.1.4)\n",
      "Requirement already satisfied: itsdangerous>=2.1.2 in /opt/anaconda3/lib/python3.12/site-packages (from Flask<3.1,>=1.0.4->dash) (2.2.0)\n",
      "Requirement already satisfied: click>=8.1.3 in /opt/anaconda3/lib/python3.12/site-packages (from Flask<3.1,>=1.0.4->dash) (8.1.7)\n",
      "Requirement already satisfied: blinker>=1.6.2 in /opt/anaconda3/lib/python3.12/site-packages (from Flask<3.1,>=1.0.4->dash) (1.6.2)\n",
      "Requirement already satisfied: tenacity>=6.2.0 in /opt/anaconda3/lib/python3.12/site-packages (from plotly>=5.0.0->dash) (8.2.2)\n",
      "Requirement already satisfied: packaging in /opt/anaconda3/lib/python3.12/site-packages (from plotly>=5.0.0->dash) (23.2)\n",
      "Requirement already satisfied: six>=1.5 in /opt/anaconda3/lib/python3.12/site-packages (from python-dateutil>=2.8.2->pandas) (1.16.0)\n",
      "Requirement already satisfied: MarkupSafe>=2.1.1 in /opt/anaconda3/lib/python3.12/site-packages (from Werkzeug<3.1->dash) (2.1.3)\n",
      "Requirement already satisfied: zipp>=0.5 in /opt/anaconda3/lib/python3.12/site-packages (from importlib-metadata->dash) (3.17.0)\n",
      "Requirement already satisfied: charset-normalizer<4,>=2 in /opt/anaconda3/lib/python3.12/site-packages (from requests->dash) (2.0.4)\n",
      "Requirement already satisfied: idna<4,>=2.5 in /opt/anaconda3/lib/python3.12/site-packages (from requests->dash) (2.10)\n",
      "Requirement already satisfied: urllib3<3,>=1.21.1 in /opt/anaconda3/lib/python3.12/site-packages (from requests->dash) (2.2.2)\n",
      "Requirement already satisfied: certifi>=2017.4.17 in /opt/anaconda3/lib/python3.12/site-packages (from requests->dash) (2024.6.2)\n",
      "Downloading dash-3.0.0-py3-none-any.whl (8.0 MB)\n",
      "\u001b[2K   \u001b[90m━━━━━━━━━━━━━━━━━━━━━━━━━━━━━━━━━━━━━━━━\u001b[0m \u001b[32m8.0/8.0 MB\u001b[0m \u001b[31m421.4 kB/s\u001b[0m eta \u001b[36m0:00:00\u001b[0m00:01\u001b[0m00:01\u001b[0m\n",
      "\u001b[?25hDownloading retrying-1.3.4-py3-none-any.whl (11 kB)\n",
      "Building wheels for collected packages: stringcase\n",
      "  Building wheel for stringcase (setup.py) ... \u001b[?25ldone\n",
      "\u001b[?25h  Created wheel for stringcase: filename=stringcase-1.2.0-py3-none-any.whl size=3569 sha256=dba1f04be12cf542e8588ab86e34c7f5fdcda623c0ad13184ea9bb8afaad63ec\n",
      "  Stored in directory: /Users/pozlong/Library/Caches/pip/wheels/37/76/84/09143757ac9846675769f3649fc2aa936ec40255783a23ba52\n",
      "Successfully built stringcase\n",
      "Installing collected packages: stringcase, retrying, dash\n",
      "Successfully installed dash-3.0.0 retrying-1.3.4 stringcase-1.2.0\n",
      "Note: you may need to restart the kernel to use updated packages.\n"
     ]
    }
   ],
   "source": [
    "pip install pandas dash"
   ]
  },
  {
   "cell_type": "code",
   "execution_count": 8,
   "id": "755af562-a655-4ad5-bd10-62758788be79",
   "metadata": {},
   "outputs": [
    {
     "name": "stdout",
     "output_type": "stream",
     "text": [
      "Downloaded spacex-dash-app.py\n",
      "Downloaded spacex-launch-dash.csv\n",
      "All files downloaded successfully.\n"
     ]
    }
   ],
   "source": [
    "import requests\n",
    "\n",
    "urls = {\n",
    "    \"spacex-dash-app.py\": \"https://cf-courses-data.s3.us.cloud-object-storage.appdomain.cloud/t4-Vy4iOU19i8y6E3Px_ww/spacex-dash-app.py\",\n",
    "    \"spacex-launch-dash.csv\": \"https://cf-courses-data.s3.us.cloud-object-storage.appdomain.cloud/IBM-DS0321EN-SkillsNetwork/datasets/spacex_launch_dash.csv\",\n",
    "}\n",
    "\n",
    "for filename, url in urls.items():\n",
    "    response = requests.get(url)\n",
    "    with open(filename, \"wb\") as file:\n",
    "        file.write(response.content)\n",
    "    print(f\"Downloaded {filename}\")\n",
    "\n",
    "print(\"All files downloaded successfully.\")\n"
   ]
  },
  {
   "cell_type": "code",
   "execution_count": null,
   "id": "b4652d0d-4c42-4417-b7df-6d9a5558f589",
   "metadata": {},
   "outputs": [
    {
     "name": "stdout",
     "output_type": "stream",
     "text": [
      "Dash is running on http://127.0.0.1:8050/\n",
      "\n",
      " * Serving Flask app 'spacex-dash-app'\n",
      " * Debug mode: off\n",
      "\u001b[31m\u001b[1mWARNING: This is a development server. Do not use it in a production deployment. Use a production WSGI server instead.\u001b[0m\n",
      " * Running on http://127.0.0.1:8050\n",
      "\u001b[33mPress CTRL+C to quit\u001b[0m\n",
      "127.0.0.1 - - [20/Mar/2025 18:40:33] \"GET / HTTP/1.1\" 200 -\n",
      "127.0.0.1 - - [20/Mar/2025 18:40:33] \"GET /_dash-component-suites/dash/deps/polyfill@7.v3_0_0m1742518863.12.1.min.js HTTP/1.1\" 200 -\n",
      "127.0.0.1 - - [20/Mar/2025 18:40:33] \"GET /_dash-component-suites/dash/deps/react@18.v3_0_0m1742518863.3.1.min.js HTTP/1.1\" 200 -\n",
      "127.0.0.1 - - [20/Mar/2025 18:40:33] \"GET /_dash-component-suites/dash/deps/prop-types@15.v3_0_0m1742518863.8.1.min.js HTTP/1.1\" 200 -\n",
      "127.0.0.1 - - [20/Mar/2025 18:40:33] \"GET /_dash-component-suites/dash/deps/react-dom@18.v3_0_0m1742518863.3.1.min.js HTTP/1.1\" 200 -\n",
      "127.0.0.1 - - [20/Mar/2025 18:40:33] \"GET /_dash-component-suites/dash/dcc/dash_core_components.v3_0_3m1742518863.js HTTP/1.1\" 200 -\n",
      "127.0.0.1 - - [20/Mar/2025 18:40:33] \"GET /_dash-component-suites/dash/dcc/dash_core_components-shared.v3_0_3m1742518863.js HTTP/1.1\" 200 -\n",
      "127.0.0.1 - - [20/Mar/2025 18:40:33] \"GET /_dash-component-suites/dash/dash-renderer/build/dash_renderer.v3_0_0m1742518863.min.js HTTP/1.1\" 200 -\n",
      "127.0.0.1 - - [20/Mar/2025 18:40:33] \"GET /_dash-component-suites/dash/dash_table/bundle.v6_0_1m1742518863.js HTTP/1.1\" 200 -\n",
      "127.0.0.1 - - [20/Mar/2025 18:40:33] \"GET /_dash-component-suites/dash/html/dash_html_components.v3_0_1m1742518863.min.js HTTP/1.1\" 200 -\n",
      "127.0.0.1 - - [20/Mar/2025 18:40:33] \"GET /_dash-layout HTTP/1.1\" 200 -\n",
      "127.0.0.1 - - [20/Mar/2025 18:40:33] \"GET /_dash-dependencies HTTP/1.1\" 200 -\n",
      "127.0.0.1 - - [20/Mar/2025 18:40:33] \"GET /_dash-component-suites/dash/dcc/async-graph.js HTTP/1.1\" 200 -\n",
      "127.0.0.1 - - [20/Mar/2025 18:40:33] \"GET /_dash-component-suites/plotly/package_data/plotly.min.js HTTP/1.1\" 200 -\n",
      "127.0.0.1 - - [20/Mar/2025 18:40:34] \"GET /_favicon.ico?v=3.0.0 HTTP/1.1\" 200 -\n",
      "127.0.0.1 - - [20/Mar/2025 18:46:43] \"GET / HTTP/1.1\" 200 -\n",
      "127.0.0.1 - - [20/Mar/2025 18:46:43] \"GET /_dash-layout HTTP/1.1\" 200 -\n",
      "127.0.0.1 - - [20/Mar/2025 18:46:43] \"GET /_dash-dependencies HTTP/1.1\" 200 -\n",
      "127.0.0.1 - - [20/Mar/2025 18:46:43] \"\u001b[36mGET /_dash-component-suites/dash/dcc/async-graph.js HTTP/1.1\u001b[0m\" 304 -\n",
      "127.0.0.1 - - [20/Mar/2025 18:46:43] \"GET /_favicon.ico?v=3.0.0 HTTP/1.1\" 200 -\n",
      "127.0.0.1 - - [20/Mar/2025 18:46:43] \"\u001b[36mGET /_dash-component-suites/plotly/package_data/plotly.min.js HTTP/1.1\u001b[0m\" 304 -\n",
      "127.0.0.1 - - [20/Mar/2025 18:48:37] \"GET / HTTP/1.1\" 200 -\n",
      "127.0.0.1 - - [20/Mar/2025 18:48:37] \"GET /_dash-layout HTTP/1.1\" 200 -\n",
      "127.0.0.1 - - [20/Mar/2025 18:48:37] \"GET /_dash-dependencies HTTP/1.1\" 200 -\n",
      "127.0.0.1 - - [20/Mar/2025 18:48:37] \"GET /_favicon.ico?v=3.0.0 HTTP/1.1\" 200 -\n",
      "127.0.0.1 - - [20/Mar/2025 18:48:37] \"\u001b[36mGET /_dash-component-suites/dash/dcc/async-graph.js HTTP/1.1\u001b[0m\" 304 -\n",
      "127.0.0.1 - - [20/Mar/2025 18:48:37] \"\u001b[36mGET /_dash-component-suites/plotly/package_data/plotly.min.js HTTP/1.1\u001b[0m\" 304 -\n",
      "127.0.0.1 - - [20/Mar/2025 18:52:56] \"GET / HTTP/1.1\" 200 -\n",
      "127.0.0.1 - - [20/Mar/2025 18:52:56] \"GET /_dash-layout HTTP/1.1\" 200 -\n",
      "127.0.0.1 - - [20/Mar/2025 18:52:56] \"GET /_dash-dependencies HTTP/1.1\" 200 -\n",
      "127.0.0.1 - - [20/Mar/2025 18:52:56] \"\u001b[36mGET /_dash-component-suites/dash/dcc/async-graph.js HTTP/1.1\u001b[0m\" 304 -\n",
      "127.0.0.1 - - [20/Mar/2025 18:52:56] \"\u001b[36mGET /_dash-component-suites/plotly/package_data/plotly.min.js HTTP/1.1\u001b[0m\" 304 -\n",
      "127.0.0.1 - - [20/Mar/2025 18:55:31] \"GET / HTTP/1.1\" 200 -\n",
      "127.0.0.1 - - [20/Mar/2025 18:55:31] \"GET /_dash-layout HTTP/1.1\" 200 -\n",
      "127.0.0.1 - - [20/Mar/2025 18:55:31] \"GET /_dash-dependencies HTTP/1.1\" 200 -\n",
      "127.0.0.1 - - [20/Mar/2025 18:55:32] \"\u001b[36mGET /_dash-component-suites/dash/dcc/async-graph.js HTTP/1.1\u001b[0m\" 304 -\n",
      "127.0.0.1 - - [20/Mar/2025 18:55:32] \"\u001b[36mGET /_dash-component-suites/plotly/package_data/plotly.min.js HTTP/1.1\u001b[0m\" 304 -\n"
     ]
    }
   ],
   "source": [
    "!python spacex-dash-app.py\n"
   ]
  },
  {
   "cell_type": "code",
   "execution_count": null,
   "id": "844a1639-f3cf-4abc-9e18-a9e4e79c350e",
   "metadata": {},
   "outputs": [],
   "source": [
    "import dash\n",
    "import dash_core_components as dcc\n",
    "import dash_html_components as html\n",
    "\n",
    "# Extract unique launch sites from spacex_df\n",
    "launch_sites = [{'label': 'All Sites', 'value': 'ALL'}] + [\n",
    "    {'label': site, 'value': site} for site in spacex_df[\"Launch Site\"].unique()\n",
    "]\n",
    "\n",
    "# Create the dropdown component\n",
    "site_dropdown = dcc.Dropdown(\n",
    "    id='site-dropdown',\n",
    "    options=launch_sites,\n",
    "    value='ALL',  # Default value (selects all launch sites)\n",
    "    placeholder=\"Select a Launch Site here\",\n",
    "    searchable=True\n",
    ")\n",
    "\n",
    "# Example Layout\n",
    "app = dash.Dash(__name__)\n",
    "app.layout = html.Div([\n",
    "    html.H3(\"Select a Launch Site\"),\n",
    "    site_dropdown\n",
    "])\n",
    "\n",
    "if __name__ == '__main__':\n",
    "    app.run_server(debug=True)\n"
   ]
  },
  {
   "cell_type": "code",
   "execution_count": null,
   "id": "8c3a65f4-153a-4801-96ea-91b37906ab7d",
   "metadata": {},
   "outputs": [],
   "source": []
  }
 ],
 "metadata": {
  "kernelspec": {
   "display_name": "Python 3 (ipykernel)",
   "language": "python",
   "name": "python3"
  },
  "language_info": {
   "codemirror_mode": {
    "name": "ipython",
    "version": 3
   },
   "file_extension": ".py",
   "mimetype": "text/x-python",
   "name": "python",
   "nbconvert_exporter": "python",
   "pygments_lexer": "ipython3",
   "version": "3.12.4"
  }
 },
 "nbformat": 4,
 "nbformat_minor": 5
}
