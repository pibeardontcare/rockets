{
 "cells": [
  {
   "cell_type": "markdown",
   "metadata": {},
   "source": [
    "<p style=\"text-align:center\">\n",
    "    <a href=\"https://skills.network\" target=\"_blank\">\n",
    "    <img src=\"https://cf-courses-data.s3.us.cloud-object-storage.appdomain.cloud/assets/logos/SN_web_lightmode.png\" width=\"200\" alt=\"Skills Network Logo\">\n",
    "    </a>\n",
    "</p>\n"
   ]
  },
  {
   "cell_type": "code",
   "execution_count": 2,
   "metadata": {
    "tags": []
   },
   "outputs": [
    {
     "name": "stdout",
     "output_type": "stream",
     "text": [
      "Collecting pandoc\n",
      "  Downloading pandoc-2.4.tar.gz (34 kB)\n",
      "  Preparing metadata (setup.py) ... \u001b[?25ldone\n",
      "\u001b[?25hCollecting plumbum (from pandoc)\n",
      "  Downloading plumbum-1.8.3-py3-none-any.whl (127 kB)\n",
      "\u001b[2K     \u001b[90m━━━━━━━━━━━━━━━━━━━━━━━━━━━━━━━━━━━━━━\u001b[0m \u001b[32m127.6/127.6 kB\u001b[0m \u001b[31m19.0 MB/s\u001b[0m eta \u001b[36m0:00:00\u001b[0m\n",
      "\u001b[?25hCollecting ply (from pandoc)\n",
      "  Downloading ply-3.11-py2.py3-none-any.whl (49 kB)\n",
      "\u001b[2K     \u001b[90m━━━━━━━━━━━━━━━━━━━━━━━━━━━━━━━━━━━━━━━━\u001b[0m \u001b[32m49.6/49.6 kB\u001b[0m \u001b[31m6.3 MB/s\u001b[0m eta \u001b[36m0:00:00\u001b[0m\n",
      "\u001b[?25hBuilding wheels for collected packages: pandoc\n",
      "  Building wheel for pandoc (setup.py) ... \u001b[?25ldone\n",
      "\u001b[?25h  Created wheel for pandoc: filename=pandoc-2.4-py3-none-any.whl size=34792 sha256=5d346952cccb1d138a67c16d484170ed1f8574ca5bef9c30eee6681857f81fda\n",
      "  Stored in directory: /home/jupyterlab/.cache/pip/wheels/22/0c/a1/2a5cd1a1bd16658f43498656676770c4fc8a4087eec780df14\n",
      "Successfully built pandoc\n",
      "Installing collected packages: ply, plumbum, pandoc\n",
      "Successfully installed pandoc-2.4 plumbum-1.8.3 ply-3.11\n",
      "Note: you may need to restart the kernel to use updated packages.\n"
     ]
    }
   ],
   "source": [
    "pip install pandoc\n"
   ]
  },
  {
   "cell_type": "markdown",
   "metadata": {},
   "source": [
    "# **SpaceX  Falcon 9 first stage Landing Prediction**\n"
   ]
  },
  {
   "cell_type": "markdown",
   "metadata": {},
   "source": [
    "# Lab 1: Collecting the data\n"
   ]
  },
  {
   "cell_type": "markdown",
   "metadata": {},
   "source": [
    "Estimated time needed: **45** minutes\n"
   ]
  },
  {
   "cell_type": "markdown",
   "metadata": {},
   "source": [
    "In this capstone, we will predict if the Falcon 9 first stage will land successfully. SpaceX advertises Falcon 9 rocket launches on its website with a cost of 62 million dollars; other providers cost upward of 165 million dollars each, much of the savings is because SpaceX can reuse the first stage. Therefore if we can determine if the first stage will land, we can determine the cost of a launch. This information can be used if an alternate company wants to bid against SpaceX for a rocket launch. In this lab, you will collect and make sure the data is in the correct format from an API. The following is an example of a successful and launch.\n"
   ]
  },
  {
   "cell_type": "markdown",
   "metadata": {},
   "source": [
    "![](https://cf-courses-data.s3.us.cloud-object-storage.appdomain.cloud/IBMDeveloperSkillsNetwork-DS0701EN-SkillsNetwork/lab_v2/images/landing_1.gif)\n"
   ]
  },
  {
   "cell_type": "markdown",
   "metadata": {},
   "source": [
    "Several examples of an unsuccessful landing are shown here:\n"
   ]
  },
  {
   "cell_type": "markdown",
   "metadata": {},
   "source": [
    "![](https://cf-courses-data.s3.us.cloud-object-storage.appdomain.cloud/IBMDeveloperSkillsNetwork-DS0701EN-SkillsNetwork/lab_v2/images/crash.gif)\n"
   ]
  },
  {
   "cell_type": "markdown",
   "metadata": {},
   "source": [
    "Most unsuccessful landings are planned. Space X performs a controlled landing in the oceans. \n"
   ]
  },
  {
   "cell_type": "markdown",
   "metadata": {},
   "source": [
    "## Objectives\n"
   ]
  },
  {
   "cell_type": "markdown",
   "metadata": {},
   "source": [
    "In this lab, you will make a get request to the SpaceX API. You will also do some basic data wrangling and formating. \n",
    "\n",
    "- Request to the SpaceX API\n",
    "- Clean the requested data\n"
   ]
  },
  {
   "cell_type": "markdown",
   "metadata": {},
   "source": [
    "----\n"
   ]
  },
  {
   "cell_type": "markdown",
   "metadata": {},
   "source": [
    "## Import Libraries and Define Auxiliary Functions\n"
   ]
  },
  {
   "cell_type": "markdown",
   "metadata": {},
   "source": [
    "We will import the following libraries into the lab\n"
   ]
  },
  {
   "cell_type": "code",
   "execution_count": 7,
   "metadata": {
    "tags": []
   },
   "outputs": [],
   "source": [
    "# Requests allows us to make HTTP requests which we will use to get data from an API\n",
    "import requests\n",
    "# Pandas is a software library written for the Python programming language for data manipulation and analysis.\n",
    "import pandas as pd\n",
    "# NumPy is a library for the Python programming language, adding support for large, multi-dimensional arrays and matrices, along with a large collection of high-level mathematical functions to operate on these arrays\n",
    "import numpy as np\n",
    "# Datetime is a library that allows us to represent dates\n",
    "import datetime\n",
    "\n",
    "# Setting this option will print all collumns of a dataframe\n",
    "pd.set_option('display.max_columns', None)\n",
    "# Setting this option will print all of the data in a feature\n",
    "pd.set_option('display.max_colwidth', None)"
   ]
  },
  {
   "cell_type": "markdown",
   "metadata": {},
   "source": [
    "Below we will define a series of helper functions that will help us use the API to extract information using identification numbers in the launch data.\n",
    "\n",
    "From the <code>rocket</code> column we would like to learn the booster name.\n"
   ]
  },
  {
   "cell_type": "code",
   "execution_count": 8,
   "metadata": {
    "tags": []
   },
   "outputs": [],
   "source": [
    "# Takes the dataset and uses the rocket column to call the API and append the data to the list\n",
    "def getBoosterVersion(data):\n",
    "    for x in data['rocket']:\n",
    "       if x:\n",
    "        response = requests.get(\"https://api.spacexdata.com/v4/rockets/\"+str(x)).json()\n",
    "        BoosterVersion.append(response['name'])"
   ]
  },
  {
   "cell_type": "markdown",
   "metadata": {},
   "source": [
    "From the <code>launchpad</code> we would like to know the name of the launch site being used, the logitude, and the latitude.\n"
   ]
  },
  {
   "cell_type": "code",
   "execution_count": 9,
   "metadata": {
    "tags": []
   },
   "outputs": [],
   "source": [
    "# Takes the dataset and uses the launchpad column to call the API and append the data to the list\n",
    "def getLaunchSite(data):\n",
    "    for x in data['launchpad']:\n",
    "       if x:\n",
    "         response = requests.get(\"https://api.spacexdata.com/v4/launchpads/\"+str(x)).json()\n",
    "         Longitude.append(response['longitude'])\n",
    "         Latitude.append(response['latitude'])\n",
    "         LaunchSite.append(response['name'])"
   ]
  },
  {
   "cell_type": "markdown",
   "metadata": {},
   "source": [
    "From the <code>payload</code> we would like to learn the mass of the payload and the orbit that it is going to.\n"
   ]
  },
  {
   "cell_type": "code",
   "execution_count": 10,
   "metadata": {
    "tags": []
   },
   "outputs": [],
   "source": [
    "# Takes the dataset and uses the payloads column to call the API and append the data to the lists\n",
    "def getPayloadData(data):\n",
    "    for load in data['payloads']:\n",
    "       if load:\n",
    "        response = requests.get(\"https://api.spacexdata.com/v4/payloads/\"+load).json()\n",
    "        PayloadMass.append(response['mass_kg'])\n",
    "        Orbit.append(response['orbit'])"
   ]
  },
  {
   "cell_type": "markdown",
   "metadata": {},
   "source": [
    "From <code>cores</code> we would like to learn the outcome of the landing, the type of the landing, number of flights with that core, whether gridfins were used, wheter the core is reused, wheter legs were used, the landing pad used, the block of the core which is a number used to seperate version of cores, the number of times this specific core has been reused, and the serial of the core.\n"
   ]
  },
  {
   "cell_type": "code",
   "execution_count": 11,
   "metadata": {
    "tags": []
   },
   "outputs": [],
   "source": [
    "# Takes the dataset and uses the cores column to call the API and append the data to the lists\n",
    "def getCoreData(data):\n",
    "    for core in data['cores']:\n",
    "            if core['core'] != None:\n",
    "                response = requests.get(\"https://api.spacexdata.com/v4/cores/\"+core['core']).json()\n",
    "                Block.append(response['block'])\n",
    "                ReusedCount.append(response['reuse_count'])\n",
    "                Serial.append(response['serial'])\n",
    "            else:\n",
    "                Block.append(None)\n",
    "                ReusedCount.append(None)\n",
    "                Serial.append(None)\n",
    "            Outcome.append(str(core['landing_success'])+' '+str(core['landing_type']))\n",
    "            Flights.append(core['flight'])\n",
    "            GridFins.append(core['gridfins'])\n",
    "            Reused.append(core['reused'])\n",
    "            Legs.append(core['legs'])\n",
    "            LandingPad.append(core['landpad'])"
   ]
  },
  {
   "cell_type": "markdown",
   "metadata": {},
   "source": [
    "Now let's start requesting rocket launch data from SpaceX API with the following URL:\n"
   ]
  },
  {
   "cell_type": "code",
   "execution_count": 12,
   "metadata": {
    "tags": []
   },
   "outputs": [],
   "source": [
    "spacex_url=\"https://api.spacexdata.com/v4/launches/past\""
   ]
  },
  {
   "cell_type": "code",
   "execution_count": 13,
   "metadata": {
    "tags": []
   },
   "outputs": [],
   "source": [
    "response = requests.get(spacex_url)"
   ]
  },
  {
   "cell_type": "markdown",
   "metadata": {},
   "source": [
    "Check the content of the response\n"
   ]
  },
  {
   "cell_type": "code",
   "execution_count": null,
   "metadata": {
    "tags": []
   },
   "outputs": [],
   "source": []
  },
  {
   "cell_type": "markdown",
   "metadata": {},
   "source": [
    "You should see the response contains massive information about SpaceX launches. Next, let's try to discover some more relevant information for this project.\n"
   ]
  },
  {
   "cell_type": "markdown",
   "metadata": {},
   "source": [
    "### Task 1: Request and parse the SpaceX launch data using the GET request\n"
   ]
  },
  {
   "cell_type": "markdown",
   "metadata": {},
   "source": [
    "To make the requested JSON results more consistent, we will use the following static response object for this project:\n"
   ]
  },
  {
   "cell_type": "code",
   "execution_count": 15,
   "metadata": {
    "tags": []
   },
   "outputs": [],
   "source": [
    "static_json_url='https://cf-courses-data.s3.us.cloud-object-storage.appdomain.cloud/IBM-DS0321EN-SkillsNetwork/datasets/API_call_spacex_api.json'"
   ]
  },
  {
   "cell_type": "markdown",
   "metadata": {},
   "source": [
    "We should see that the request was successfull with the 200 status response code\n"
   ]
  },
  {
   "cell_type": "code",
   "execution_count": 16,
   "metadata": {
    "tags": []
   },
   "outputs": [
    {
     "data": {
      "text/plain": [
       "200"
      ]
     },
     "execution_count": 16,
     "metadata": {},
     "output_type": "execute_result"
    }
   ],
   "source": [
    "response.status_code"
   ]
  },
  {
   "cell_type": "markdown",
   "metadata": {},
   "source": [
    "Now we decode the response content as a Json using <code>.json()</code> and turn it into a Pandas dataframe using <code>.json_normalize()</code>\n"
   ]
  },
  {
   "cell_type": "code",
   "execution_count": 17,
   "metadata": {
    "tags": []
   },
   "outputs": [],
   "source": [
    "# Use json_normalize meethod to convert the json result into a dataframeresponse\n",
    "json_data = response.json()\n",
    "df = pd.json_normalize(json_data)"
   ]
  },
  {
   "cell_type": "markdown",
   "metadata": {},
   "source": [
    "Using the dataframe <code>data</code> print the first 5 rows\n"
   ]
  },
  {
   "cell_type": "code",
   "execution_count": 18,
   "metadata": {
    "tags": []
   },
   "outputs": [
    {
     "data": {
      "text/html": [
       "<div>\n",
       "<style scoped>\n",
       "    .dataframe tbody tr th:only-of-type {\n",
       "        vertical-align: middle;\n",
       "    }\n",
       "\n",
       "    .dataframe tbody tr th {\n",
       "        vertical-align: top;\n",
       "    }\n",
       "\n",
       "    .dataframe thead th {\n",
       "        text-align: right;\n",
       "    }\n",
       "</style>\n",
       "<table border=\"1\" class=\"dataframe\">\n",
       "  <thead>\n",
       "    <tr style=\"text-align: right;\">\n",
       "      <th></th>\n",
       "      <th>static_fire_date_utc</th>\n",
       "      <th>static_fire_date_unix</th>\n",
       "      <th>net</th>\n",
       "      <th>window</th>\n",
       "      <th>rocket</th>\n",
       "      <th>success</th>\n",
       "      <th>failures</th>\n",
       "      <th>details</th>\n",
       "      <th>crew</th>\n",
       "      <th>ships</th>\n",
       "      <th>capsules</th>\n",
       "      <th>payloads</th>\n",
       "      <th>launchpad</th>\n",
       "      <th>flight_number</th>\n",
       "      <th>name</th>\n",
       "      <th>date_utc</th>\n",
       "      <th>date_unix</th>\n",
       "      <th>date_local</th>\n",
       "      <th>date_precision</th>\n",
       "      <th>upcoming</th>\n",
       "      <th>cores</th>\n",
       "      <th>auto_update</th>\n",
       "      <th>tbd</th>\n",
       "      <th>launch_library_id</th>\n",
       "      <th>id</th>\n",
       "      <th>fairings.reused</th>\n",
       "      <th>fairings.recovery_attempt</th>\n",
       "      <th>fairings.recovered</th>\n",
       "      <th>fairings.ships</th>\n",
       "      <th>links.patch.small</th>\n",
       "      <th>links.patch.large</th>\n",
       "      <th>links.reddit.campaign</th>\n",
       "      <th>links.reddit.launch</th>\n",
       "      <th>links.reddit.media</th>\n",
       "      <th>links.reddit.recovery</th>\n",
       "      <th>links.flickr.small</th>\n",
       "      <th>links.flickr.original</th>\n",
       "      <th>links.presskit</th>\n",
       "      <th>links.webcast</th>\n",
       "      <th>links.youtube_id</th>\n",
       "      <th>links.article</th>\n",
       "      <th>links.wikipedia</th>\n",
       "      <th>fairings</th>\n",
       "    </tr>\n",
       "  </thead>\n",
       "  <tbody>\n",
       "    <tr>\n",
       "      <th>0</th>\n",
       "      <td>2006-03-17T00:00:00.000Z</td>\n",
       "      <td>1.142554e+09</td>\n",
       "      <td>False</td>\n",
       "      <td>0.0</td>\n",
       "      <td>5e9d0d95eda69955f709d1eb</td>\n",
       "      <td>False</td>\n",
       "      <td>[{'time': 33, 'altitude': None, 'reason': 'merlin engine failure'}]</td>\n",
       "      <td>Engine failure at 33 seconds and loss of vehicle</td>\n",
       "      <td>[]</td>\n",
       "      <td>[]</td>\n",
       "      <td>[]</td>\n",
       "      <td>[5eb0e4b5b6c3bb0006eeb1e1]</td>\n",
       "      <td>5e9e4502f5090995de566f86</td>\n",
       "      <td>1</td>\n",
       "      <td>FalconSat</td>\n",
       "      <td>2006-03-24T22:30:00.000Z</td>\n",
       "      <td>1143239400</td>\n",
       "      <td>2006-03-25T10:30:00+12:00</td>\n",
       "      <td>hour</td>\n",
       "      <td>False</td>\n",
       "      <td>[{'core': '5e9e289df35918033d3b2623', 'flight': 1, 'gridfins': False, 'legs': False, 'reused': False, 'landing_attempt': False, 'landing_success': None, 'landing_type': None, 'landpad': None}]</td>\n",
       "      <td>True</td>\n",
       "      <td>False</td>\n",
       "      <td>None</td>\n",
       "      <td>5eb87cd9ffd86e000604b32a</td>\n",
       "      <td>False</td>\n",
       "      <td>False</td>\n",
       "      <td>False</td>\n",
       "      <td>[]</td>\n",
       "      <td>https://images2.imgbox.com/94/f2/NN6Ph45r_o.png</td>\n",
       "      <td>https://images2.imgbox.com/5b/02/QcxHUb5V_o.png</td>\n",
       "      <td>None</td>\n",
       "      <td>None</td>\n",
       "      <td>None</td>\n",
       "      <td>None</td>\n",
       "      <td>[]</td>\n",
       "      <td>[]</td>\n",
       "      <td>None</td>\n",
       "      <td>https://www.youtube.com/watch?v=0a_00nJ_Y88</td>\n",
       "      <td>0a_00nJ_Y88</td>\n",
       "      <td>https://www.space.com/2196-spacex-inaugural-falcon-1-rocket-lost-launch.html</td>\n",
       "      <td>https://en.wikipedia.org/wiki/DemoSat</td>\n",
       "      <td>NaN</td>\n",
       "    </tr>\n",
       "    <tr>\n",
       "      <th>1</th>\n",
       "      <td>None</td>\n",
       "      <td>NaN</td>\n",
       "      <td>False</td>\n",
       "      <td>0.0</td>\n",
       "      <td>5e9d0d95eda69955f709d1eb</td>\n",
       "      <td>False</td>\n",
       "      <td>[{'time': 301, 'altitude': 289, 'reason': 'harmonic oscillation leading to premature engine shutdown'}]</td>\n",
       "      <td>Successful first stage burn and transition to second stage, maximum altitude 289 km, Premature engine shutdown at T+7 min 30 s, Failed to reach orbit, Failed to recover first stage</td>\n",
       "      <td>[]</td>\n",
       "      <td>[]</td>\n",
       "      <td>[]</td>\n",
       "      <td>[5eb0e4b6b6c3bb0006eeb1e2]</td>\n",
       "      <td>5e9e4502f5090995de566f86</td>\n",
       "      <td>2</td>\n",
       "      <td>DemoSat</td>\n",
       "      <td>2007-03-21T01:10:00.000Z</td>\n",
       "      <td>1174439400</td>\n",
       "      <td>2007-03-21T13:10:00+12:00</td>\n",
       "      <td>hour</td>\n",
       "      <td>False</td>\n",
       "      <td>[{'core': '5e9e289ef35918416a3b2624', 'flight': 1, 'gridfins': False, 'legs': False, 'reused': False, 'landing_attempt': False, 'landing_success': None, 'landing_type': None, 'landpad': None}]</td>\n",
       "      <td>True</td>\n",
       "      <td>False</td>\n",
       "      <td>None</td>\n",
       "      <td>5eb87cdaffd86e000604b32b</td>\n",
       "      <td>False</td>\n",
       "      <td>False</td>\n",
       "      <td>False</td>\n",
       "      <td>[]</td>\n",
       "      <td>https://images2.imgbox.com/f9/4a/ZboXReNb_o.png</td>\n",
       "      <td>https://images2.imgbox.com/80/a2/bkWotCIS_o.png</td>\n",
       "      <td>None</td>\n",
       "      <td>None</td>\n",
       "      <td>None</td>\n",
       "      <td>None</td>\n",
       "      <td>[]</td>\n",
       "      <td>[]</td>\n",
       "      <td>None</td>\n",
       "      <td>https://www.youtube.com/watch?v=Lk4zQ2wP-Nc</td>\n",
       "      <td>Lk4zQ2wP-Nc</td>\n",
       "      <td>https://www.space.com/3590-spacex-falcon-1-rocket-fails-reach-orbit.html</td>\n",
       "      <td>https://en.wikipedia.org/wiki/DemoSat</td>\n",
       "      <td>NaN</td>\n",
       "    </tr>\n",
       "    <tr>\n",
       "      <th>2</th>\n",
       "      <td>None</td>\n",
       "      <td>NaN</td>\n",
       "      <td>False</td>\n",
       "      <td>0.0</td>\n",
       "      <td>5e9d0d95eda69955f709d1eb</td>\n",
       "      <td>False</td>\n",
       "      <td>[{'time': 140, 'altitude': 35, 'reason': 'residual stage-1 thrust led to collision between stage 1 and stage 2'}]</td>\n",
       "      <td>Residual stage 1 thrust led to collision between stage 1 and stage 2</td>\n",
       "      <td>[]</td>\n",
       "      <td>[]</td>\n",
       "      <td>[]</td>\n",
       "      <td>[5eb0e4b6b6c3bb0006eeb1e3, 5eb0e4b6b6c3bb0006eeb1e4]</td>\n",
       "      <td>5e9e4502f5090995de566f86</td>\n",
       "      <td>3</td>\n",
       "      <td>Trailblazer</td>\n",
       "      <td>2008-08-03T03:34:00.000Z</td>\n",
       "      <td>1217734440</td>\n",
       "      <td>2008-08-03T15:34:00+12:00</td>\n",
       "      <td>hour</td>\n",
       "      <td>False</td>\n",
       "      <td>[{'core': '5e9e289ef3591814873b2625', 'flight': 1, 'gridfins': False, 'legs': False, 'reused': False, 'landing_attempt': False, 'landing_success': None, 'landing_type': None, 'landpad': None}]</td>\n",
       "      <td>True</td>\n",
       "      <td>False</td>\n",
       "      <td>None</td>\n",
       "      <td>5eb87cdbffd86e000604b32c</td>\n",
       "      <td>False</td>\n",
       "      <td>False</td>\n",
       "      <td>False</td>\n",
       "      <td>[]</td>\n",
       "      <td>https://images2.imgbox.com/6c/cb/na1tzhHs_o.png</td>\n",
       "      <td>https://images2.imgbox.com/4a/80/k1oAkY0k_o.png</td>\n",
       "      <td>None</td>\n",
       "      <td>None</td>\n",
       "      <td>None</td>\n",
       "      <td>None</td>\n",
       "      <td>[]</td>\n",
       "      <td>[]</td>\n",
       "      <td>None</td>\n",
       "      <td>https://www.youtube.com/watch?v=v0w9p3U8860</td>\n",
       "      <td>v0w9p3U8860</td>\n",
       "      <td>http://www.spacex.com/news/2013/02/11/falcon-1-flight-3-mission-summary</td>\n",
       "      <td>https://en.wikipedia.org/wiki/Trailblazer_(satellite)</td>\n",
       "      <td>NaN</td>\n",
       "    </tr>\n",
       "    <tr>\n",
       "      <th>3</th>\n",
       "      <td>2008-09-20T00:00:00.000Z</td>\n",
       "      <td>1.221869e+09</td>\n",
       "      <td>False</td>\n",
       "      <td>0.0</td>\n",
       "      <td>5e9d0d95eda69955f709d1eb</td>\n",
       "      <td>True</td>\n",
       "      <td>[]</td>\n",
       "      <td>Ratsat was carried to orbit on the first successful orbital launch of any privately funded and developed, liquid-propelled carrier rocket, the SpaceX Falcon 1</td>\n",
       "      <td>[]</td>\n",
       "      <td>[]</td>\n",
       "      <td>[]</td>\n",
       "      <td>[5eb0e4b7b6c3bb0006eeb1e5]</td>\n",
       "      <td>5e9e4502f5090995de566f86</td>\n",
       "      <td>4</td>\n",
       "      <td>RatSat</td>\n",
       "      <td>2008-09-28T23:15:00.000Z</td>\n",
       "      <td>1222643700</td>\n",
       "      <td>2008-09-28T11:15:00+12:00</td>\n",
       "      <td>hour</td>\n",
       "      <td>False</td>\n",
       "      <td>[{'core': '5e9e289ef3591855dc3b2626', 'flight': 1, 'gridfins': False, 'legs': False, 'reused': False, 'landing_attempt': False, 'landing_success': None, 'landing_type': None, 'landpad': None}]</td>\n",
       "      <td>True</td>\n",
       "      <td>False</td>\n",
       "      <td>None</td>\n",
       "      <td>5eb87cdbffd86e000604b32d</td>\n",
       "      <td>False</td>\n",
       "      <td>False</td>\n",
       "      <td>False</td>\n",
       "      <td>[]</td>\n",
       "      <td>https://images2.imgbox.com/95/39/sRqN7rsv_o.png</td>\n",
       "      <td>https://images2.imgbox.com/a3/99/qswRYzE8_o.png</td>\n",
       "      <td>None</td>\n",
       "      <td>None</td>\n",
       "      <td>None</td>\n",
       "      <td>None</td>\n",
       "      <td>[]</td>\n",
       "      <td>[]</td>\n",
       "      <td>None</td>\n",
       "      <td>https://www.youtube.com/watch?v=dLQ2tZEH6G0</td>\n",
       "      <td>dLQ2tZEH6G0</td>\n",
       "      <td>https://en.wikipedia.org/wiki/Ratsat</td>\n",
       "      <td>https://en.wikipedia.org/wiki/Ratsat</td>\n",
       "      <td>NaN</td>\n",
       "    </tr>\n",
       "    <tr>\n",
       "      <th>4</th>\n",
       "      <td>None</td>\n",
       "      <td>NaN</td>\n",
       "      <td>False</td>\n",
       "      <td>0.0</td>\n",
       "      <td>5e9d0d95eda69955f709d1eb</td>\n",
       "      <td>True</td>\n",
       "      <td>[]</td>\n",
       "      <td>None</td>\n",
       "      <td>[]</td>\n",
       "      <td>[]</td>\n",
       "      <td>[]</td>\n",
       "      <td>[5eb0e4b7b6c3bb0006eeb1e6]</td>\n",
       "      <td>5e9e4502f5090995de566f86</td>\n",
       "      <td>5</td>\n",
       "      <td>RazakSat</td>\n",
       "      <td>2009-07-13T03:35:00.000Z</td>\n",
       "      <td>1247456100</td>\n",
       "      <td>2009-07-13T15:35:00+12:00</td>\n",
       "      <td>hour</td>\n",
       "      <td>False</td>\n",
       "      <td>[{'core': '5e9e289ef359184f103b2627', 'flight': 1, 'gridfins': False, 'legs': False, 'reused': False, 'landing_attempt': False, 'landing_success': None, 'landing_type': None, 'landpad': None}]</td>\n",
       "      <td>True</td>\n",
       "      <td>False</td>\n",
       "      <td>None</td>\n",
       "      <td>5eb87cdcffd86e000604b32e</td>\n",
       "      <td>False</td>\n",
       "      <td>False</td>\n",
       "      <td>False</td>\n",
       "      <td>[]</td>\n",
       "      <td>https://images2.imgbox.com/ab/5a/Pequxd5d_o.png</td>\n",
       "      <td>https://images2.imgbox.com/92/e4/7Cf6MLY0_o.png</td>\n",
       "      <td>None</td>\n",
       "      <td>None</td>\n",
       "      <td>None</td>\n",
       "      <td>None</td>\n",
       "      <td>[]</td>\n",
       "      <td>[]</td>\n",
       "      <td>http://www.spacex.com/press/2012/12/19/spacexs-falcon-1-successfully-delivers-razaksat-satellite-orbit</td>\n",
       "      <td>https://www.youtube.com/watch?v=yTaIDooc8Og</td>\n",
       "      <td>yTaIDooc8Og</td>\n",
       "      <td>http://www.spacex.com/news/2013/02/12/falcon-1-flight-5</td>\n",
       "      <td>https://en.wikipedia.org/wiki/RazakSAT</td>\n",
       "      <td>NaN</td>\n",
       "    </tr>\n",
       "  </tbody>\n",
       "</table>\n",
       "</div>"
      ],
      "text/plain": [
       "       static_fire_date_utc  static_fire_date_unix    net  window  \\\n",
       "0  2006-03-17T00:00:00.000Z           1.142554e+09  False     0.0   \n",
       "1                      None                    NaN  False     0.0   \n",
       "2                      None                    NaN  False     0.0   \n",
       "3  2008-09-20T00:00:00.000Z           1.221869e+09  False     0.0   \n",
       "4                      None                    NaN  False     0.0   \n",
       "\n",
       "                     rocket success  \\\n",
       "0  5e9d0d95eda69955f709d1eb   False   \n",
       "1  5e9d0d95eda69955f709d1eb   False   \n",
       "2  5e9d0d95eda69955f709d1eb   False   \n",
       "3  5e9d0d95eda69955f709d1eb    True   \n",
       "4  5e9d0d95eda69955f709d1eb    True   \n",
       "\n",
       "                                                                                                            failures  \\\n",
       "0                                                [{'time': 33, 'altitude': None, 'reason': 'merlin engine failure'}]   \n",
       "1            [{'time': 301, 'altitude': 289, 'reason': 'harmonic oscillation leading to premature engine shutdown'}]   \n",
       "2  [{'time': 140, 'altitude': 35, 'reason': 'residual stage-1 thrust led to collision between stage 1 and stage 2'}]   \n",
       "3                                                                                                                 []   \n",
       "4                                                                                                                 []   \n",
       "\n",
       "                                                                                                                                                                                details  \\\n",
       "0                                                                                                                                      Engine failure at 33 seconds and loss of vehicle   \n",
       "1  Successful first stage burn and transition to second stage, maximum altitude 289 km, Premature engine shutdown at T+7 min 30 s, Failed to reach orbit, Failed to recover first stage   \n",
       "2                                                                                                                  Residual stage 1 thrust led to collision between stage 1 and stage 2   \n",
       "3                        Ratsat was carried to orbit on the first successful orbital launch of any privately funded and developed, liquid-propelled carrier rocket, the SpaceX Falcon 1   \n",
       "4                                                                                                                                                                                  None   \n",
       "\n",
       "  crew ships capsules                                              payloads  \\\n",
       "0   []    []       []                            [5eb0e4b5b6c3bb0006eeb1e1]   \n",
       "1   []    []       []                            [5eb0e4b6b6c3bb0006eeb1e2]   \n",
       "2   []    []       []  [5eb0e4b6b6c3bb0006eeb1e3, 5eb0e4b6b6c3bb0006eeb1e4]   \n",
       "3   []    []       []                            [5eb0e4b7b6c3bb0006eeb1e5]   \n",
       "4   []    []       []                            [5eb0e4b7b6c3bb0006eeb1e6]   \n",
       "\n",
       "                  launchpad  flight_number         name  \\\n",
       "0  5e9e4502f5090995de566f86              1    FalconSat   \n",
       "1  5e9e4502f5090995de566f86              2      DemoSat   \n",
       "2  5e9e4502f5090995de566f86              3  Trailblazer   \n",
       "3  5e9e4502f5090995de566f86              4       RatSat   \n",
       "4  5e9e4502f5090995de566f86              5     RazakSat   \n",
       "\n",
       "                   date_utc   date_unix                 date_local  \\\n",
       "0  2006-03-24T22:30:00.000Z  1143239400  2006-03-25T10:30:00+12:00   \n",
       "1  2007-03-21T01:10:00.000Z  1174439400  2007-03-21T13:10:00+12:00   \n",
       "2  2008-08-03T03:34:00.000Z  1217734440  2008-08-03T15:34:00+12:00   \n",
       "3  2008-09-28T23:15:00.000Z  1222643700  2008-09-28T11:15:00+12:00   \n",
       "4  2009-07-13T03:35:00.000Z  1247456100  2009-07-13T15:35:00+12:00   \n",
       "\n",
       "  date_precision  upcoming  \\\n",
       "0           hour     False   \n",
       "1           hour     False   \n",
       "2           hour     False   \n",
       "3           hour     False   \n",
       "4           hour     False   \n",
       "\n",
       "                                                                                                                                                                                              cores  \\\n",
       "0  [{'core': '5e9e289df35918033d3b2623', 'flight': 1, 'gridfins': False, 'legs': False, 'reused': False, 'landing_attempt': False, 'landing_success': None, 'landing_type': None, 'landpad': None}]   \n",
       "1  [{'core': '5e9e289ef35918416a3b2624', 'flight': 1, 'gridfins': False, 'legs': False, 'reused': False, 'landing_attempt': False, 'landing_success': None, 'landing_type': None, 'landpad': None}]   \n",
       "2  [{'core': '5e9e289ef3591814873b2625', 'flight': 1, 'gridfins': False, 'legs': False, 'reused': False, 'landing_attempt': False, 'landing_success': None, 'landing_type': None, 'landpad': None}]   \n",
       "3  [{'core': '5e9e289ef3591855dc3b2626', 'flight': 1, 'gridfins': False, 'legs': False, 'reused': False, 'landing_attempt': False, 'landing_success': None, 'landing_type': None, 'landpad': None}]   \n",
       "4  [{'core': '5e9e289ef359184f103b2627', 'flight': 1, 'gridfins': False, 'legs': False, 'reused': False, 'landing_attempt': False, 'landing_success': None, 'landing_type': None, 'landpad': None}]   \n",
       "\n",
       "   auto_update    tbd launch_library_id                        id  \\\n",
       "0         True  False              None  5eb87cd9ffd86e000604b32a   \n",
       "1         True  False              None  5eb87cdaffd86e000604b32b   \n",
       "2         True  False              None  5eb87cdbffd86e000604b32c   \n",
       "3         True  False              None  5eb87cdbffd86e000604b32d   \n",
       "4         True  False              None  5eb87cdcffd86e000604b32e   \n",
       "\n",
       "  fairings.reused fairings.recovery_attempt fairings.recovered fairings.ships  \\\n",
       "0           False                     False              False             []   \n",
       "1           False                     False              False             []   \n",
       "2           False                     False              False             []   \n",
       "3           False                     False              False             []   \n",
       "4           False                     False              False             []   \n",
       "\n",
       "                                 links.patch.small  \\\n",
       "0  https://images2.imgbox.com/94/f2/NN6Ph45r_o.png   \n",
       "1  https://images2.imgbox.com/f9/4a/ZboXReNb_o.png   \n",
       "2  https://images2.imgbox.com/6c/cb/na1tzhHs_o.png   \n",
       "3  https://images2.imgbox.com/95/39/sRqN7rsv_o.png   \n",
       "4  https://images2.imgbox.com/ab/5a/Pequxd5d_o.png   \n",
       "\n",
       "                                 links.patch.large links.reddit.campaign  \\\n",
       "0  https://images2.imgbox.com/5b/02/QcxHUb5V_o.png                  None   \n",
       "1  https://images2.imgbox.com/80/a2/bkWotCIS_o.png                  None   \n",
       "2  https://images2.imgbox.com/4a/80/k1oAkY0k_o.png                  None   \n",
       "3  https://images2.imgbox.com/a3/99/qswRYzE8_o.png                  None   \n",
       "4  https://images2.imgbox.com/92/e4/7Cf6MLY0_o.png                  None   \n",
       "\n",
       "  links.reddit.launch links.reddit.media links.reddit.recovery  \\\n",
       "0                None               None                  None   \n",
       "1                None               None                  None   \n",
       "2                None               None                  None   \n",
       "3                None               None                  None   \n",
       "4                None               None                  None   \n",
       "\n",
       "  links.flickr.small links.flickr.original  \\\n",
       "0                 []                    []   \n",
       "1                 []                    []   \n",
       "2                 []                    []   \n",
       "3                 []                    []   \n",
       "4                 []                    []   \n",
       "\n",
       "                                                                                           links.presskit  \\\n",
       "0                                                                                                    None   \n",
       "1                                                                                                    None   \n",
       "2                                                                                                    None   \n",
       "3                                                                                                    None   \n",
       "4  http://www.spacex.com/press/2012/12/19/spacexs-falcon-1-successfully-delivers-razaksat-satellite-orbit   \n",
       "\n",
       "                                 links.webcast links.youtube_id  \\\n",
       "0  https://www.youtube.com/watch?v=0a_00nJ_Y88      0a_00nJ_Y88   \n",
       "1  https://www.youtube.com/watch?v=Lk4zQ2wP-Nc      Lk4zQ2wP-Nc   \n",
       "2  https://www.youtube.com/watch?v=v0w9p3U8860      v0w9p3U8860   \n",
       "3  https://www.youtube.com/watch?v=dLQ2tZEH6G0      dLQ2tZEH6G0   \n",
       "4  https://www.youtube.com/watch?v=yTaIDooc8Og      yTaIDooc8Og   \n",
       "\n",
       "                                                                  links.article  \\\n",
       "0  https://www.space.com/2196-spacex-inaugural-falcon-1-rocket-lost-launch.html   \n",
       "1      https://www.space.com/3590-spacex-falcon-1-rocket-fails-reach-orbit.html   \n",
       "2       http://www.spacex.com/news/2013/02/11/falcon-1-flight-3-mission-summary   \n",
       "3                                          https://en.wikipedia.org/wiki/Ratsat   \n",
       "4                       http://www.spacex.com/news/2013/02/12/falcon-1-flight-5   \n",
       "\n",
       "                                         links.wikipedia  fairings  \n",
       "0                  https://en.wikipedia.org/wiki/DemoSat       NaN  \n",
       "1                  https://en.wikipedia.org/wiki/DemoSat       NaN  \n",
       "2  https://en.wikipedia.org/wiki/Trailblazer_(satellite)       NaN  \n",
       "3                   https://en.wikipedia.org/wiki/Ratsat       NaN  \n",
       "4                 https://en.wikipedia.org/wiki/RazakSAT       NaN  "
      ]
     },
     "execution_count": 18,
     "metadata": {},
     "output_type": "execute_result"
    }
   ],
   "source": [
    "# Get the head of the dataframe\n",
    "df.head(5)"
   ]
  },
  {
   "cell_type": "markdown",
   "metadata": {},
   "source": [
    "You will notice that a lot of the data are IDs. For example the rocket column has no information about the rocket just an identification number.\n",
    "\n",
    "We will now use the API again to get information about the launches using the IDs given for each launch. Specifically we will be using columns <code>rocket</code>, <code>payloads</code>, <code>launchpad</code>, and <code>cores</code>.\n"
   ]
  },
  {
   "cell_type": "code",
   "execution_count": 19,
   "metadata": {
    "tags": []
   },
   "outputs": [],
   "source": [
    "# Lets take a subset of our dataframe keeping only the features we want and the flight number, and date_utc.\n",
    "data = df[['rocket', 'payloads', 'launchpad', 'cores', 'flight_number', 'date_utc']]\n",
    "\n",
    "# We will remove rows with multiple cores because those are falcon rockets with 2 extra rocket boosters and rows that have multiple payloads in a single rocket.\n",
    "data = df[df['cores'].map(len)==1]\n",
    "data = df[df['payloads'].map(len)==1]\n",
    "\n",
    "# Since payloads and cores are lists of size 1 we will also extract the single value in the list and replace the feature.\n",
    "df['cores'] = df['cores'].map(lambda x : x[0])\n",
    "df['payloads'] = df['payloads'].map(lambda x : x[0])\n",
    "\n",
    "# We also want to convert the date_utc to a datetime datatype and then extracting the date leaving the time\n",
    "df['date'] = pd.to_datetime(data['date_utc']).dt.date\n",
    "\n",
    "# Using the date we will restrict the dates of the launches\n",
    "df = df[df['date'] <= datetime.date(2020, 11, 13)]"
   ]
  },
  {
   "cell_type": "markdown",
   "metadata": {},
   "source": [
    "* From the <code>rocket</code> we would like to learn the booster name\n",
    "\n",
    "* From the <code>payload</code> we would like to learn the mass of the payload and the orbit that it is going to\n",
    "\n",
    "* From the <code>launchpad</code> we would like to know the name of the launch site being used, the longitude, and the latitude.\n",
    "\n",
    "* **From <code>cores</code> we would like to learn the outcome of the landing, the type of the landing, number of flights with that core, whether gridfins were used, whether the core is reused, whether legs were used, the landing pad used, the block of the core which is a number used to seperate version of cores, the number of times this specific core has been reused, and the serial of the core.**\n",
    "\n",
    "The data from these requests will be stored in lists and will be used to create a new dataframe.\n"
   ]
  },
  {
   "cell_type": "code",
   "execution_count": 20,
   "metadata": {
    "tags": []
   },
   "outputs": [],
   "source": [
    "#Global variables \n",
    "BoosterVersion = []\n",
    "PayloadMass = []\n",
    "Orbit = []\n",
    "LaunchSite = []\n",
    "Outcome = []\n",
    "Flights = []\n",
    "GridFins = []\n",
    "Reused = []\n",
    "Legs = []\n",
    "LandingPad = []\n",
    "Block = []\n",
    "ReusedCount = []\n",
    "Serial = []\n",
    "Longitude = []\n",
    "Latitude = []"
   ]
  },
  {
   "cell_type": "markdown",
   "metadata": {},
   "source": [
    "These functions will apply the outputs globally to the above variables. Let's take a looks at <code>BoosterVersion</code> variable. Before we apply  <code>getBoosterVersion</code> the list is empty:\n"
   ]
  },
  {
   "cell_type": "code",
   "execution_count": 21,
   "metadata": {
    "tags": []
   },
   "outputs": [
    {
     "data": {
      "text/plain": [
       "[]"
      ]
     },
     "execution_count": 21,
     "metadata": {},
     "output_type": "execute_result"
    }
   ],
   "source": [
    "BoosterVersion"
   ]
  },
  {
   "cell_type": "markdown",
   "metadata": {},
   "source": [
    "Now, let's apply <code> getBoosterVersion</code> function method to get the booster version\n"
   ]
  },
  {
   "cell_type": "code",
   "execution_count": 22,
   "metadata": {
    "tags": []
   },
   "outputs": [],
   "source": [
    "# Call getBoosterVersion\n",
    "getBoosterVersion(data)"
   ]
  },
  {
   "cell_type": "markdown",
   "metadata": {},
   "source": [
    "the list has now been update \n"
   ]
  },
  {
   "cell_type": "code",
   "execution_count": 23,
   "metadata": {
    "tags": []
   },
   "outputs": [
    {
     "data": {
      "text/plain": [
       "['Falcon 1', 'Falcon 1', 'Falcon 1', 'Falcon 1', 'Falcon 9']"
      ]
     },
     "execution_count": 23,
     "metadata": {},
     "output_type": "execute_result"
    }
   ],
   "source": [
    "BoosterVersion[0:5]"
   ]
  },
  {
   "cell_type": "markdown",
   "metadata": {},
   "source": [
    "we can apply the rest of the  functions here:\n"
   ]
  },
  {
   "cell_type": "code",
   "execution_count": 24,
   "metadata": {
    "tags": []
   },
   "outputs": [],
   "source": [
    "# Call getLaunchSite\n",
    "getLaunchSite(data)"
   ]
  },
  {
   "cell_type": "code",
   "execution_count": 25,
   "metadata": {
    "tags": []
   },
   "outputs": [
    {
     "name": "stdout",
     "output_type": "stream",
     "text": [
      "Unexpected payload format: ['5eb0e4b5b6c3bb0006eeb1e1']\n",
      "Unexpected payload format: ['5eb0e4b6b6c3bb0006eeb1e2']\n",
      "Unexpected payload format: ['5eb0e4b7b6c3bb0006eeb1e5']\n",
      "Unexpected payload format: ['5eb0e4b7b6c3bb0006eeb1e6']\n",
      "Unexpected payload format: ['5eb0e4b7b6c3bb0006eeb1e7']\n",
      "Unexpected payload format: ['5eb0e4bab6c3bb0006eeb1ea']\n",
      "Unexpected payload format: ['5eb0e4bbb6c3bb0006eeb1ed']\n",
      "Unexpected payload format: ['5eb0e4bbb6c3bb0006eeb1ee']\n",
      "Unexpected payload format: ['5eb0e4bbb6c3bb0006eeb1ef']\n",
      "Unexpected payload format: ['5eb0e4bbb6c3bb0006eeb1f0']\n",
      "Unexpected payload format: ['5eb0e4bbb6c3bb0006eeb1f1']\n",
      "Unexpected payload format: ['5eb0e4bcb6c3bb0006eeb1f2']\n",
      "Unexpected payload format: ['5eb0e4bcb6c3bb0006eeb1f3']\n",
      "Unexpected payload format: ['5eb0e4bcb6c3bb0006eeb1f4']\n",
      "Unexpected payload format: ['5eb0e4bcb6c3bb0006eeb1f5']\n",
      "Unexpected payload format: ['5eb0e4bdb6c3bb0006eeb1f6']\n",
      "Unexpected payload format: ['5eb0e4bdb6c3bb0006eeb1f7']\n",
      "Unexpected payload format: ['5eb0e4bdb6c3bb0006eeb1fa']\n",
      "Unexpected payload format: ['5eb0e4beb6c3bb0006eeb1fb']\n",
      "Unexpected payload format: ['5eb0e4beb6c3bb0006eeb1fc']\n",
      "Unexpected payload format: ['5eb0e4beb6c3bb0006eeb1fd']\n",
      "Unexpected payload format: ['5eb0e4beb6c3bb0006eeb1fe']\n",
      "Unexpected payload format: ['5eb0e4beb6c3bb0006eeb1ff']\n",
      "Unexpected payload format: ['5eb0e4bfb6c3bb0006eeb200']\n",
      "Unexpected payload format: ['5eb0e4bfb6c3bb0006eeb201']\n",
      "Unexpected payload format: ['5eb0e4bfb6c3bb0006eeb202']\n",
      "Unexpected payload format: ['5eb0e4c0b6c3bb0006eeb205']\n",
      "Unexpected payload format: ['5eb0e4c1b6c3bb0006eeb206']\n",
      "Unexpected payload format: ['5eb0e4c1b6c3bb0006eeb207']\n",
      "Unexpected payload format: ['5eb0e4c2b6c3bb0006eeb208']\n",
      "Unexpected payload format: ['5eb0e4c3b6c3bb0006eeb209']\n",
      "Unexpected payload format: ['5eb0e4c3b6c3bb0006eeb20a']\n",
      "Unexpected payload format: ['5eb0e4c3b6c3bb0006eeb20b']\n",
      "Unexpected payload format: ['5eb0e4c3b6c3bb0006eeb20c']\n",
      "Unexpected payload format: ['5eb0e4c3b6c3bb0006eeb20d']\n",
      "Unexpected payload format: ['5eb0e4c4b6c3bb0006eeb20e']\n",
      "Unexpected payload format: ['5eb0e4c4b6c3bb0006eeb20f']\n",
      "Unexpected payload format: ['5eb0e4c4b6c3bb0006eeb210']\n",
      "Unexpected payload format: ['5eb0e4c4b6c3bb0006eeb211']\n",
      "Unexpected payload format: ['5eb0e4c4b6c3bb0006eeb212']\n",
      "Unexpected payload format: ['5eb0e4c4b6c3bb0006eeb213']\n",
      "Unexpected payload format: ['5eb0e4c5b6c3bb0006eeb214']\n",
      "Unexpected payload format: ['5eb0e4c5b6c3bb0006eeb215']\n",
      "Unexpected payload format: ['5eb0e4c5b6c3bb0006eeb216']\n",
      "Unexpected payload format: ['5eb0e4c5b6c3bb0006eeb217']\n",
      "Unexpected payload format: ['5eb0e4c5b6c3bb0006eeb218']\n",
      "Unexpected payload format: ['5eb0e4c6b6c3bb0006eeb219']\n",
      "Unexpected payload format: ['5eb0e4c6b6c3bb0006eeb21a']\n",
      "Unexpected payload format: ['5eb0e4c6b6c3bb0006eeb21b']\n",
      "Unexpected payload format: ['5eb0e4c6b6c3bb0006eeb21c']\n",
      "Unexpected payload format: ['5eb0e4c7b6c3bb0006eeb21f']\n",
      "Unexpected payload format: ['5eb0e4c7b6c3bb0006eeb220']\n",
      "Unexpected payload format: ['5eb0e4c7b6c3bb0006eeb221']\n",
      "Unexpected payload format: ['5eb0e4c7b6c3bb0006eeb222']\n",
      "Unexpected payload format: ['5eb0e4c7b6c3bb0006eeb223']\n",
      "Unexpected payload format: ['5eb0e4c8b6c3bb0006eeb226']\n",
      "Unexpected payload format: ['5eb0e4c8b6c3bb0006eeb227']\n",
      "Unexpected payload format: ['5eb0e4c8b6c3bb0006eeb228']\n",
      "Unexpected payload format: ['5eb0e4c9b6c3bb0006eeb229']\n",
      "Unexpected payload format: ['5eb0e4c9b6c3bb0006eeb22a']\n",
      "Unexpected payload format: ['5eb0e4c9b6c3bb0006eeb22b']\n",
      "Unexpected payload format: ['5eb0e4c9b6c3bb0006eeb22c']\n",
      "Unexpected payload format: ['5eb0e4c9b6c3bb0006eeb22d']\n",
      "Unexpected payload format: ['5eb0e4c9b6c3bb0006eeb22e']\n",
      "Unexpected payload format: ['5eb0e4cab6c3bb0006eeb22f']\n",
      "Unexpected payload format: ['5eb0e4cab6c3bb0006eeb230']\n",
      "Unexpected payload format: ['5eb0e4cab6c3bb0006eeb231']\n",
      "Unexpected payload format: ['5eb0e4cbb6c3bb0006eeb235']\n",
      "Unexpected payload format: ['5eb0e4cbb6c3bb0006eeb236']\n",
      "Unexpected payload format: ['5eb0e4cbb6c3bb0006eeb237']\n",
      "Unexpected payload format: ['5eb0e4cbb6c3bb0006eeb238']\n",
      "Unexpected payload format: ['5eb0e4ccb6c3bb0006eeb239']\n",
      "Unexpected payload format: ['5eb0e4ceb6c3bb0006eeb24a']\n",
      "Unexpected payload format: ['5eb0e4cfb6c3bb0006eeb24b']\n",
      "Unexpected payload format: ['5eb0e4cfb6c3bb0006eeb24c']\n",
      "Unexpected payload format: ['5eb0e4cfb6c3bb0006eeb24d']\n",
      "Unexpected payload format: ['5eb0e4cfb6c3bb0006eeb24e']\n",
      "Unexpected payload format: ['5eb0e4cfb6c3bb0006eeb24f']\n",
      "Unexpected payload format: ['5eb0e4d0b6c3bb0006eeb250']\n",
      "Unexpected payload format: ['5eb0e4d0b6c3bb0006eeb251']\n",
      "Unexpected payload format: ['5eb0e4d0b6c3bb0006eeb252']\n",
      "Unexpected payload format: ['5eb0e4d0b6c3bb0006eeb253']\n",
      "Unexpected payload format: ['5eb0e4d0b6c3bb0006eeb254']\n",
      "Unexpected payload format: ['5eb0e4d1b6c3bb0006eeb255']\n",
      "Unexpected payload format: ['5eb0e4d1b6c3bb0006eeb257']\n",
      "Unexpected payload format: ['5eb0e4d1b6c3bb0006eeb256']\n",
      "Unexpected payload format: ['5eb0e4d1b6c3bb0006eeb258']\n",
      "Unexpected payload format: ['5eb0e4d2b6c3bb0006eeb25c']\n",
      "Unexpected payload format: ['5eb0e4d2b6c3bb0006eeb25b']\n",
      "Unexpected payload format: ['5ed9859f1f30554030d45c3f']\n",
      "Unexpected payload format: ['5eb0e4d1b6c3bb0006eeb259']\n",
      "Unexpected payload format: ['5ef6a4600059c33cee4a829e']\n",
      "Unexpected payload format: ['5ef6a48e0059c33cee4a829f']\n",
      "Unexpected payload format: ['5ef6a4d50059c33cee4a82a1']\n",
      "Unexpected payload format: ['5ef6a4ea0059c33cee4a82a2']\n",
      "Unexpected payload format: ['5eb0e4d2b6c3bb0006eeb25e']\n",
      "Unexpected payload format: ['5eb0e4d2b6c3bb0006eeb25f']\n",
      "Unexpected payload format: ['5ed9867c1f30554030d45c40']\n",
      "Unexpected payload format: ['5fb95c263a88ae63c9546044']\n",
      "Unexpected payload format: ['5eb0e4d3b6c3bb0006eeb262']\n",
      "Unexpected payload format: ['5eb0e4d2b6c3bb0006eeb25d']\n",
      "Unexpected payload format: ['5f839ac7818d8b59f5740d48']\n",
      "Unexpected payload format: ['5eb0e4d3b6c3bb0006eeb264']\n",
      "Unexpected payload format: ['5fbfedba54ceb10a5664c813']\n",
      "Unexpected payload format: ['5fd3871a7faea57d297c86c6']\n",
      "Unexpected payload format: ['5ff655769257f579ee3a6c64']\n",
      "Unexpected payload format: ['600f9bc08f798e2a4d5f97a4']\n",
      "Unexpected payload format: ['5fbfedc654ceb10a5664c814']\n",
      "Unexpected payload format: ['600f9bcb8f798e2a4d5f97a5']\n",
      "Unexpected payload format: ['600f9bd88f798e2a4d5f97a6']\n",
      "Unexpected payload format: ['60428afbc041c16716f73cdd']\n",
      "Unexpected payload format: ['60428b02c041c16716f73cde']\n",
      "Unexpected payload format: ['5fe3b3adb3467846b3242173']\n",
      "Unexpected payload format: ['605b4be3aa5433645e37d046']\n",
      "Unexpected payload format: ['605b4befaa5433645e37d047']\n",
      "Unexpected payload format: ['6079bd5e9a06446e8c61bf7c']\n",
      "Unexpected payload format: ['6079bd679a06446e8c61bf7d']\n",
      "Unexpected payload format: ['5fe3b642b3467846b324217b']\n",
      "Unexpected payload format: ['5fe3b57db3467846b324217a']\n",
      "Unexpected payload format: ['5eb0e4d2b6c3bb0006eeb261']\n",
      "Unexpected payload format: ['608ac397eb3e50044e3630e7']\n",
      "Unexpected payload format: ['5fe3c4f2b3467846b3242193']\n",
      "Unexpected payload format: ['60e3bf3373359e1e20335c3c']\n",
      "Unexpected payload format: ['607a382f5a906a44023e0867']\n",
      "Unexpected payload format: ['5fe3b3bab3467846b3242174']\n",
      "Unexpected payload format: ['618fabf0563d69573ed8caa6']\n",
      "Unexpected payload format: ['5fe3c4a6b3467846b3242192']\n",
      "Unexpected payload format: ['6161d0f26db1a92bfba85355']\n",
      "Unexpected payload format: ['61c1f395a4a2462678cbf46e']\n",
      "Unexpected payload format: ['61bbac16437241381bf70632']\n",
      "Unexpected payload format: ['5fe3c080b3467846b3242190']\n",
      "Unexpected payload format: ['6161d22a6db1a92bfba85357']\n",
      "Unexpected payload format: ['61d5ece4f88e4c5fc91f1ebb']\n",
      "Unexpected payload format: ['6175aaacefa4314085aa9c56']\n",
      "Unexpected payload format: ['61e05516be8d8b66799018d4']\n",
      "Unexpected payload format: ['6161d3a06db1a92bfba8535a']\n",
      "Unexpected payload format: ['6175aaacefa4314085aa9c56']\n",
      "Unexpected payload format: ['61e05520be8d8b66799018d5']\n",
      "Unexpected payload format: ['61fc02e1e0dc5662b76489b4']\n",
      "Unexpected payload format: ['61fc0334e0dc5662b76489b5']\n",
      "Unexpected payload format: ['61fc0379e0dc5662b76489b6']\n",
      "Unexpected payload format: ['61fc0382e0dc5662b76489b7']\n",
      "Unexpected payload format: ['623491e5f051102e1fcedac9']\n",
      "Unexpected payload format: ['6243af62af52800c6e919260']\n",
      "Unexpected payload format: ['61eefb129eb1064137a1bd74']\n",
      "Unexpected payload format: ['6243b036af52800c6e919262']\n",
      "Unexpected payload format: ['6243af9faf52800c6e919261']\n",
      "Unexpected payload format: ['6243b1cdaf52800c6e919265']\n",
      "Unexpected payload format: ['62582aa55988f159024b964d']\n",
      "Unexpected payload format: ['62582aad5988f159024b964e']\n",
      "Unexpected payload format: ['625829d75988f159024b9649']\n",
      "Unexpected payload format: ['625829cf5988f159024b9648']\n",
      "Unexpected payload format: ['62615ee40ec008379be596fd']\n",
      "Unexpected payload format: ['6243b39daf52800c6e919267']\n",
      "Unexpected payload format: ['6243b286af52800c6e919266']\n",
      "Unexpected payload format: ['6278484e57b51b752c5c5a63']\n",
      "Unexpected payload format: ['5fe3b2abb3467846b3242172']\n",
      "Unexpected payload format: ['62adecbcd26f4f711fa53848']\n",
      "Unexpected payload format: ['6243b93caf52800c6e91926f']\n",
      "Unexpected payload format: ['630bccc6d36448026ab01639']\n",
      "Unexpected payload format: ['630bccd6d36448026ab0163a']\n",
      "Unexpected payload format: ['6243b835af52800c6e91926d']\n",
      "Unexpected payload format: ['630bce10d36448026ab0163b']\n",
      "Unexpected payload format: ['630bce49d36448026ab0163c']\n",
      "Unexpected payload format: ['630bce79d36448026ab0163d']\n",
      "Unexpected payload format: ['630bcfe1d36448026ab01641']\n",
      "Unexpected payload format: ['630bcea1d36448026ab0163e']\n",
      "Unexpected payload format: ['630bceb8d36448026ab01640']\n",
      "Unexpected payload format: ['630bceadd36448026ab0163f']\n",
      "Unexpected payload format: ['631614d7ffc78f3b85670716']\n",
      "Unexpected payload format: ['630f63bf18702d4844fb5391']\n",
      "Unexpected payload format: ['63161699ffc78f3b85670719']\n",
      "Unexpected payload format: ['631616a7ffc78f3b8567071a']\n",
      "Unexpected payload format: ['62dd73ed202306255024d145']\n"
     ]
    }
   ],
   "source": [
    "\n",
    "\n",
    "for load in data['payloads']:\n",
    "    if isinstance(load, str):  # Ensure 'load' is a string\n",
    "        response = requests.get(\"https://api.spacexdata.com/v4/payloads/\" + load).json()\n",
    "        PayloadMass.append(response.get('mass_kg', None))  # Handle missing keys gracefully\n",
    "        Orbit.append(response.get('orbit', None))\n",
    "    else:\n",
    "        print(f\"Unexpected payload format: {load}\")"
   ]
  },
  {
   "cell_type": "code",
   "execution_count": 26,
   "metadata": {
    "tags": []
   },
   "outputs": [],
   "source": [
    "def getCoreData(data):\n",
    "    for core in data['cores']:  # Iterate over the list of cores\n",
    "        if isinstance(core, dict) and core.get('core') is not None:  # Ensure core is a dict and has 'core' key\n",
    "            response = requests.get(\"https://api.spacexdata.com/v4/cores/\" + core['core']).json()\n",
    "            Block.append(response.get('block', None))  # Handle missing keys gracefully\n",
    "            ReuseCount.append(response.get('reuse_count', None))\n",
    "            Status.append(response.get('status', None))\n"
   ]
  },
  {
   "cell_type": "markdown",
   "metadata": {},
   "source": [
    "Finally lets construct our dataset using the data we have obtained. We we combine the columns into a dictionary.\n"
   ]
  },
  {
   "cell_type": "code",
   "execution_count": 27,
   "metadata": {
    "tags": []
   },
   "outputs": [
    {
     "name": "stdout",
     "output_type": "stream",
     "text": [
      "Index(['static_fire_date_utc', 'static_fire_date_unix', 'net', 'window',\n",
      "       'rocket', 'success', 'failures', 'details', 'crew', 'ships', 'capsules',\n",
      "       'payloads', 'launchpad', 'flight_number', 'name', 'date_utc',\n",
      "       'date_unix', 'date_local', 'date_precision', 'upcoming', 'cores',\n",
      "       'auto_update', 'tbd', 'launch_library_id', 'id', 'fairings.reused',\n",
      "       'fairings.recovery_attempt', 'fairings.recovered', 'fairings.ships',\n",
      "       'links.patch.small', 'links.patch.large', 'links.reddit.campaign',\n",
      "       'links.reddit.launch', 'links.reddit.media', 'links.reddit.recovery',\n",
      "       'links.flickr.small', 'links.flickr.original', 'links.presskit',\n",
      "       'links.webcast', 'links.youtube_id', 'links.article', 'links.wikipedia',\n",
      "       'fairings'],\n",
      "      dtype='object')\n"
     ]
    }
   ],
   "source": [
    "print(data.keys())\n"
   ]
  },
  {
   "cell_type": "code",
   "execution_count": 28,
   "metadata": {
    "tags": []
   },
   "outputs": [],
   "source": [
    "launch_dict = {\n",
    "    'FlightNumber': list(data['flight_number']),\n",
    "    'Date': list(data['date_utc']),  # Use 'date_utc' instead of 'date'\n",
    "    'BoosterVersion': BoosterVersion,\n",
    "    'PayloadMass': PayloadMass,\n",
    "    'Orbit': Orbit,\n",
    "    'LaunchSite': LaunchSite,\n",
    "    'Outcome': Outcome,\n",
    "    'Flights': Flights,\n",
    "    'GridFins': GridFins,\n",
    "    'Reused': Reused,\n",
    "    'Legs': Legs,\n",
    "    'LandingPad': LandingPad,\n",
    "    'Block': Block,\n",
    "    'ReusedCount': ReusedCount,\n",
    "    'Serial': Serial,\n",
    "    'Longitude': Longitude,\n",
    "    'Latitude': Latitude\n",
    "}\n"
   ]
  },
  {
   "cell_type": "code",
   "execution_count": 29,
   "metadata": {
    "tags": []
   },
   "outputs": [
    {
     "name": "stdout",
     "output_type": "stream",
     "text": [
      "FlightNumber: 174\n",
      "Date: 174\n",
      "BoosterVersion: 174\n",
      "PayloadMass: 0\n",
      "Orbit: 0\n",
      "LaunchSite: 174\n",
      "Outcome: 0\n",
      "Flights: 0\n",
      "GridFins: 0\n",
      "Reused: 0\n",
      "Legs: 0\n",
      "LandingPad: 0\n",
      "Block: 0\n",
      "ReusedCount: 0\n",
      "Serial: 0\n",
      "Longitude: 174\n",
      "Latitude: 174\n"
     ]
    }
   ],
   "source": [
    "for key, value in launch_dict.items():\n",
    "    print(f\"{key}: {len(value)}\")\n",
    "\n"
   ]
  },
  {
   "cell_type": "markdown",
   "metadata": {},
   "source": [
    "Then, we need to create a Pandas data frame from the dictionary launch_dict.\n"
   ]
  },
  {
   "cell_type": "code",
   "execution_count": 36,
   "metadata": {
    "tags": []
   },
   "outputs": [
    {
     "ename": "ValueError",
     "evalue": "All arrays must be of the same length",
     "output_type": "error",
     "traceback": [
      "\u001b[0;31m---------------------------------------------------------------------------\u001b[0m",
      "\u001b[0;31mValueError\u001b[0m                                Traceback (most recent call last)",
      "\u001b[0;32m/tmp/ipykernel_68/3734107046.py\u001b[0m in \u001b[0;36m<module>\u001b[0;34m\u001b[0m\n\u001b[1;32m      1\u001b[0m \u001b[0;31m# Create a data from launch_dict\u001b[0m\u001b[0;34m\u001b[0m\u001b[0;34m\u001b[0m\u001b[0;34m\u001b[0m\u001b[0m\n\u001b[0;32m----> 2\u001b[0;31m \u001b[0mlaunch_df\u001b[0m \u001b[0;34m=\u001b[0m \u001b[0mpd\u001b[0m\u001b[0;34m.\u001b[0m\u001b[0mDataFrame\u001b[0m\u001b[0;34m(\u001b[0m\u001b[0mlaunch_dict\u001b[0m\u001b[0;34m)\u001b[0m\u001b[0;34m\u001b[0m\u001b[0;34m\u001b[0m\u001b[0m\n\u001b[0m\u001b[1;32m      3\u001b[0m \u001b[0;34m\u001b[0m\u001b[0m\n\u001b[1;32m      4\u001b[0m \u001b[0;31m# Display the DataFrame\u001b[0m\u001b[0;34m\u001b[0m\u001b[0;34m\u001b[0m\u001b[0;34m\u001b[0m\u001b[0m\n\u001b[1;32m      5\u001b[0m \u001b[0mprint\u001b[0m\u001b[0;34m(\u001b[0m\u001b[0mlaunch_df\u001b[0m\u001b[0;34m.\u001b[0m\u001b[0mhead\u001b[0m\u001b[0;34m(\u001b[0m\u001b[0;34m)\u001b[0m\u001b[0;34m)\u001b[0m\u001b[0;34m\u001b[0m\u001b[0;34m\u001b[0m\u001b[0m\n",
      "\u001b[0;32m~/conda/envs/python/lib/python3.7/site-packages/pandas/core/frame.py\u001b[0m in \u001b[0;36m__init__\u001b[0;34m(self, data, index, columns, dtype, copy)\u001b[0m\n\u001b[1;32m    612\u001b[0m         \u001b[0;32melif\u001b[0m \u001b[0misinstance\u001b[0m\u001b[0;34m(\u001b[0m\u001b[0mdata\u001b[0m\u001b[0;34m,\u001b[0m \u001b[0mdict\u001b[0m\u001b[0;34m)\u001b[0m\u001b[0;34m:\u001b[0m\u001b[0;34m\u001b[0m\u001b[0;34m\u001b[0m\u001b[0m\n\u001b[1;32m    613\u001b[0m             \u001b[0;31m# GH#38939 de facto copy defaults to False only in non-dict cases\u001b[0m\u001b[0;34m\u001b[0m\u001b[0;34m\u001b[0m\u001b[0;34m\u001b[0m\u001b[0m\n\u001b[0;32m--> 614\u001b[0;31m             \u001b[0mmgr\u001b[0m \u001b[0;34m=\u001b[0m \u001b[0mdict_to_mgr\u001b[0m\u001b[0;34m(\u001b[0m\u001b[0mdata\u001b[0m\u001b[0;34m,\u001b[0m \u001b[0mindex\u001b[0m\u001b[0;34m,\u001b[0m \u001b[0mcolumns\u001b[0m\u001b[0;34m,\u001b[0m \u001b[0mdtype\u001b[0m\u001b[0;34m=\u001b[0m\u001b[0mdtype\u001b[0m\u001b[0;34m,\u001b[0m \u001b[0mcopy\u001b[0m\u001b[0;34m=\u001b[0m\u001b[0mcopy\u001b[0m\u001b[0;34m,\u001b[0m \u001b[0mtyp\u001b[0m\u001b[0;34m=\u001b[0m\u001b[0mmanager\u001b[0m\u001b[0;34m)\u001b[0m\u001b[0;34m\u001b[0m\u001b[0;34m\u001b[0m\u001b[0m\n\u001b[0m\u001b[1;32m    615\u001b[0m         \u001b[0;32melif\u001b[0m \u001b[0misinstance\u001b[0m\u001b[0;34m(\u001b[0m\u001b[0mdata\u001b[0m\u001b[0;34m,\u001b[0m \u001b[0mma\u001b[0m\u001b[0;34m.\u001b[0m\u001b[0mMaskedArray\u001b[0m\u001b[0;34m)\u001b[0m\u001b[0;34m:\u001b[0m\u001b[0;34m\u001b[0m\u001b[0;34m\u001b[0m\u001b[0m\n\u001b[1;32m    616\u001b[0m             \u001b[0;32mimport\u001b[0m \u001b[0mnumpy\u001b[0m\u001b[0;34m.\u001b[0m\u001b[0mma\u001b[0m\u001b[0;34m.\u001b[0m\u001b[0mmrecords\u001b[0m \u001b[0;32mas\u001b[0m \u001b[0mmrecords\u001b[0m\u001b[0;34m\u001b[0m\u001b[0;34m\u001b[0m\u001b[0m\n",
      "\u001b[0;32m~/conda/envs/python/lib/python3.7/site-packages/pandas/core/internals/construction.py\u001b[0m in \u001b[0;36mdict_to_mgr\u001b[0;34m(data, index, columns, dtype, typ, copy)\u001b[0m\n\u001b[1;32m    463\u001b[0m \u001b[0;34m\u001b[0m\u001b[0m\n\u001b[1;32m    464\u001b[0m     return arrays_to_mgr(\n\u001b[0;32m--> 465\u001b[0;31m         \u001b[0marrays\u001b[0m\u001b[0;34m,\u001b[0m \u001b[0mdata_names\u001b[0m\u001b[0;34m,\u001b[0m \u001b[0mindex\u001b[0m\u001b[0;34m,\u001b[0m \u001b[0mcolumns\u001b[0m\u001b[0;34m,\u001b[0m \u001b[0mdtype\u001b[0m\u001b[0;34m=\u001b[0m\u001b[0mdtype\u001b[0m\u001b[0;34m,\u001b[0m \u001b[0mtyp\u001b[0m\u001b[0;34m=\u001b[0m\u001b[0mtyp\u001b[0m\u001b[0;34m,\u001b[0m \u001b[0mconsolidate\u001b[0m\u001b[0;34m=\u001b[0m\u001b[0mcopy\u001b[0m\u001b[0;34m\u001b[0m\u001b[0;34m\u001b[0m\u001b[0m\n\u001b[0m\u001b[1;32m    466\u001b[0m     )\n\u001b[1;32m    467\u001b[0m \u001b[0;34m\u001b[0m\u001b[0m\n",
      "\u001b[0;32m~/conda/envs/python/lib/python3.7/site-packages/pandas/core/internals/construction.py\u001b[0m in \u001b[0;36marrays_to_mgr\u001b[0;34m(arrays, arr_names, index, columns, dtype, verify_integrity, typ, consolidate)\u001b[0m\n\u001b[1;32m    117\u001b[0m         \u001b[0;31m# figure out the index, if necessary\u001b[0m\u001b[0;34m\u001b[0m\u001b[0;34m\u001b[0m\u001b[0;34m\u001b[0m\u001b[0m\n\u001b[1;32m    118\u001b[0m         \u001b[0;32mif\u001b[0m \u001b[0mindex\u001b[0m \u001b[0;32mis\u001b[0m \u001b[0;32mNone\u001b[0m\u001b[0;34m:\u001b[0m\u001b[0;34m\u001b[0m\u001b[0;34m\u001b[0m\u001b[0m\n\u001b[0;32m--> 119\u001b[0;31m             \u001b[0mindex\u001b[0m \u001b[0;34m=\u001b[0m \u001b[0m_extract_index\u001b[0m\u001b[0;34m(\u001b[0m\u001b[0marrays\u001b[0m\u001b[0;34m)\u001b[0m\u001b[0;34m\u001b[0m\u001b[0;34m\u001b[0m\u001b[0m\n\u001b[0m\u001b[1;32m    120\u001b[0m         \u001b[0;32melse\u001b[0m\u001b[0;34m:\u001b[0m\u001b[0;34m\u001b[0m\u001b[0;34m\u001b[0m\u001b[0m\n\u001b[1;32m    121\u001b[0m             \u001b[0mindex\u001b[0m \u001b[0;34m=\u001b[0m \u001b[0mensure_index\u001b[0m\u001b[0;34m(\u001b[0m\u001b[0mindex\u001b[0m\u001b[0;34m)\u001b[0m\u001b[0;34m\u001b[0m\u001b[0;34m\u001b[0m\u001b[0m\n",
      "\u001b[0;32m~/conda/envs/python/lib/python3.7/site-packages/pandas/core/internals/construction.py\u001b[0m in \u001b[0;36m_extract_index\u001b[0;34m(data)\u001b[0m\n\u001b[1;32m    633\u001b[0m             \u001b[0mlengths\u001b[0m \u001b[0;34m=\u001b[0m \u001b[0mlist\u001b[0m\u001b[0;34m(\u001b[0m\u001b[0mset\u001b[0m\u001b[0;34m(\u001b[0m\u001b[0mraw_lengths\u001b[0m\u001b[0;34m)\u001b[0m\u001b[0;34m)\u001b[0m\u001b[0;34m\u001b[0m\u001b[0;34m\u001b[0m\u001b[0m\n\u001b[1;32m    634\u001b[0m             \u001b[0;32mif\u001b[0m \u001b[0mlen\u001b[0m\u001b[0;34m(\u001b[0m\u001b[0mlengths\u001b[0m\u001b[0;34m)\u001b[0m \u001b[0;34m>\u001b[0m \u001b[0;36m1\u001b[0m\u001b[0;34m:\u001b[0m\u001b[0;34m\u001b[0m\u001b[0;34m\u001b[0m\u001b[0m\n\u001b[0;32m--> 635\u001b[0;31m                 \u001b[0;32mraise\u001b[0m \u001b[0mValueError\u001b[0m\u001b[0;34m(\u001b[0m\u001b[0;34m\"All arrays must be of the same length\"\u001b[0m\u001b[0;34m)\u001b[0m\u001b[0;34m\u001b[0m\u001b[0;34m\u001b[0m\u001b[0m\n\u001b[0m\u001b[1;32m    636\u001b[0m \u001b[0;34m\u001b[0m\u001b[0m\n\u001b[1;32m    637\u001b[0m             \u001b[0;32mif\u001b[0m \u001b[0mhave_dicts\u001b[0m\u001b[0;34m:\u001b[0m\u001b[0;34m\u001b[0m\u001b[0;34m\u001b[0m\u001b[0m\n",
      "\u001b[0;31mValueError\u001b[0m: All arrays must be of the same length"
     ]
    }
   ],
   "source": []
  },
  {
   "cell_type": "code",
   "execution_count": 30,
   "metadata": {
    "tags": []
   },
   "outputs": [],
   "source": [
    "# Determine the target length (maximum length among the lists)\n",
    "target_length = max(len(value) for value in launch_dict.values())\n",
    "\n",
    "# Align all lists to the target length\n",
    "for key, value in launch_dict.items():\n",
    "    if len(value) < target_length:\n",
    "        # Pad shorter lists with None (or a default value)\n",
    "        launch_dict[key] += [None] * (target_length - len(value))\n",
    "    elif len(value) > target_length:\n",
    "        # Truncate longer lists\n",
    "        launch_dict[key] = value[:target_length]\n"
   ]
  },
  {
   "cell_type": "code",
   "execution_count": 31,
   "metadata": {
    "tags": []
   },
   "outputs": [
    {
     "name": "stdout",
     "output_type": "stream",
     "text": [
      "   FlightNumber                      Date BoosterVersion PayloadMass Orbit  \\\n",
      "0             1  2006-03-24T22:30:00.000Z       Falcon 1        None  None   \n",
      "1             2  2007-03-21T01:10:00.000Z       Falcon 1        None  None   \n",
      "2             4  2008-09-28T23:15:00.000Z       Falcon 1        None  None   \n",
      "3             5  2009-07-13T03:35:00.000Z       Falcon 1        None  None   \n",
      "4             6  2010-06-04T18:45:00.000Z       Falcon 9        None  None   \n",
      "\n",
      "        LaunchSite Outcome Flights GridFins Reused  Legs LandingPad Block  \\\n",
      "0  Kwajalein Atoll    None    None     None   None  None       None  None   \n",
      "1  Kwajalein Atoll    None    None     None   None  None       None  None   \n",
      "2  Kwajalein Atoll    None    None     None   None  None       None  None   \n",
      "3  Kwajalein Atoll    None    None     None   None  None       None  None   \n",
      "4     CCSFS SLC 40    None    None     None   None  None       None  None   \n",
      "\n",
      "  ReusedCount Serial   Longitude   Latitude  \n",
      "0        None   None  167.743129   9.047721  \n",
      "1        None   None  167.743129   9.047721  \n",
      "2        None   None  167.743129   9.047721  \n",
      "3        None   None  167.743129   9.047721  \n",
      "4        None   None  -80.577366  28.561857  \n"
     ]
    }
   ],
   "source": [
    "# Create a data from launch_dict\n",
    "launch_df = pd.DataFrame(launch_dict)\n",
    "\n",
    "# Display the DataFrame\n",
    "print(launch_df.head())"
   ]
  },
  {
   "cell_type": "markdown",
   "metadata": {},
   "source": [
    "Show the summary of the dataframe\n"
   ]
  },
  {
   "cell_type": "code",
   "execution_count": 32,
   "metadata": {
    "tags": []
   },
   "outputs": [
    {
     "name": "stdout",
     "output_type": "stream",
     "text": [
      "<class 'pandas.core.frame.DataFrame'>\n",
      "RangeIndex: 174 entries, 0 to 173\n",
      "Data columns (total 17 columns):\n",
      " #   Column          Non-Null Count  Dtype  \n",
      "---  ------          --------------  -----  \n",
      " 0   FlightNumber    174 non-null    int64  \n",
      " 1   Date            174 non-null    object \n",
      " 2   BoosterVersion  174 non-null    object \n",
      " 3   PayloadMass     0 non-null      object \n",
      " 4   Orbit           0 non-null      object \n",
      " 5   LaunchSite      174 non-null    object \n",
      " 6   Outcome         0 non-null      object \n",
      " 7   Flights         0 non-null      object \n",
      " 8   GridFins        0 non-null      object \n",
      " 9   Reused          0 non-null      object \n",
      " 10  Legs            0 non-null      object \n",
      " 11  LandingPad      0 non-null      object \n",
      " 12  Block           0 non-null      object \n",
      " 13  ReusedCount     0 non-null      object \n",
      " 14  Serial          0 non-null      object \n",
      " 15  Longitude       174 non-null    float64\n",
      " 16  Latitude        174 non-null    float64\n",
      "dtypes: float64(2), int64(1), object(14)\n",
      "memory usage: 23.2+ KB\n",
      "None\n",
      "       FlightNumber   Longitude    Latitude\n",
      "count    174.000000  174.000000  174.000000\n",
      "mean      95.632184  -80.858654   29.033845\n",
      "std       53.325723   40.823048    3.757531\n",
      "min        1.000000 -120.610829    9.047721\n",
      "25%       49.250000  -80.603956   28.561857\n",
      "50%       96.500000  -80.577366   28.561857\n",
      "75%      141.750000  -80.577366   28.608058\n",
      "max      187.000000  167.743129   34.632093\n",
      "   FlightNumber                      Date BoosterVersion PayloadMass Orbit  \\\n",
      "0             1  2006-03-24T22:30:00.000Z       Falcon 1        None  None   \n",
      "1             2  2007-03-21T01:10:00.000Z       Falcon 1        None  None   \n",
      "2             4  2008-09-28T23:15:00.000Z       Falcon 1        None  None   \n",
      "3             5  2009-07-13T03:35:00.000Z       Falcon 1        None  None   \n",
      "4             6  2010-06-04T18:45:00.000Z       Falcon 9        None  None   \n",
      "\n",
      "        LaunchSite Outcome Flights GridFins Reused  Legs LandingPad Block  \\\n",
      "0  Kwajalein Atoll    None    None     None   None  None       None  None   \n",
      "1  Kwajalein Atoll    None    None     None   None  None       None  None   \n",
      "2  Kwajalein Atoll    None    None     None   None  None       None  None   \n",
      "3  Kwajalein Atoll    None    None     None   None  None       None  None   \n",
      "4     CCSFS SLC 40    None    None     None   None  None       None  None   \n",
      "\n",
      "  ReusedCount Serial   Longitude   Latitude  \n",
      "0        None   None  167.743129   9.047721  \n",
      "1        None   None  167.743129   9.047721  \n",
      "2        None   None  167.743129   9.047721  \n",
      "3        None   None  167.743129   9.047721  \n",
      "4        None   None  -80.577366  28.561857  \n"
     ]
    }
   ],
   "source": [
    "# Show the head of the dataframe\n",
    "\n",
    "print(launch_df.info())  # Provides column data types and non-null counts\n",
    "\n",
    "\n",
    "print(launch_df.describe())  # Includes count, mean, std, min, max for numeric columns\n",
    "\n",
    "\n",
    "print(launch_df.head())  # Shows the first 5 rows"
   ]
  },
  {
   "cell_type": "markdown",
   "metadata": {},
   "source": [
    "### Task 2: Filter the dataframe to only include `Falcon 9` launches\n"
   ]
  },
  {
   "cell_type": "markdown",
   "metadata": {},
   "source": [
    "Finally we will remove the Falcon 1 launches keeping only the Falcon 9 launches. Filter the data dataframe using the <code>BoosterVersion</code> column to only keep the Falcon 9 launches. Save the filtered data to a new dataframe called <code>data_falcon9</code>.\n"
   ]
  },
  {
   "cell_type": "code",
   "execution_count": 34,
   "metadata": {
    "tags": []
   },
   "outputs": [
    {
     "name": "stdout",
     "output_type": "stream",
     "text": [
      "   FlightNumber                      Date BoosterVersion PayloadMass Orbit  \\\n",
      "4             6  2010-06-04T18:45:00.000Z       Falcon 9        None  None   \n",
      "5             8  2012-05-22T07:44:00.000Z       Falcon 9        None  None   \n",
      "6            10  2013-03-01T19:10:00.000Z       Falcon 9        None  None   \n",
      "7            11  2013-09-29T16:00:00.000Z       Falcon 9        None  None   \n",
      "8            12  2013-12-03T22:41:00.000Z       Falcon 9        None  None   \n",
      "\n",
      "     LaunchSite Outcome Flights GridFins Reused  Legs LandingPad Block  \\\n",
      "4  CCSFS SLC 40    None    None     None   None  None       None  None   \n",
      "5  CCSFS SLC 40    None    None     None   None  None       None  None   \n",
      "6  CCSFS SLC 40    None    None     None   None  None       None  None   \n",
      "7   VAFB SLC 4E    None    None     None   None  None       None  None   \n",
      "8  CCSFS SLC 40    None    None     None   None  None       None  None   \n",
      "\n",
      "  ReusedCount Serial   Longitude   Latitude  \n",
      "4        None   None  -80.577366  28.561857  \n",
      "5        None   None  -80.577366  28.561857  \n",
      "6        None   None  -80.577366  28.561857  \n",
      "7        None   None -120.610829  34.632093  \n",
      "8        None   None  -80.577366  28.561857  \n",
      "<class 'pandas.core.frame.DataFrame'>\n",
      "Int64Index: 168 entries, 4 to 173\n",
      "Data columns (total 17 columns):\n",
      " #   Column          Non-Null Count  Dtype  \n",
      "---  ------          --------------  -----  \n",
      " 0   FlightNumber    168 non-null    int64  \n",
      " 1   Date            168 non-null    object \n",
      " 2   BoosterVersion  168 non-null    object \n",
      " 3   PayloadMass     0 non-null      object \n",
      " 4   Orbit           0 non-null      object \n",
      " 5   LaunchSite      168 non-null    object \n",
      " 6   Outcome         0 non-null      object \n",
      " 7   Flights         0 non-null      object \n",
      " 8   GridFins        0 non-null      object \n",
      " 9   Reused          0 non-null      object \n",
      " 10  Legs            0 non-null      object \n",
      " 11  LandingPad      0 non-null      object \n",
      " 12  Block           0 non-null      object \n",
      " 13  ReusedCount     0 non-null      object \n",
      " 14  Serial          0 non-null      object \n",
      " 15  Longitude       168 non-null    float64\n",
      " 16  Latitude        168 non-null    float64\n",
      "dtypes: float64(2), int64(1), object(14)\n",
      "memory usage: 23.6+ KB\n",
      "None\n",
      "168\n"
     ]
    }
   ],
   "source": [
    "# Hint data['BoosterVersion']!='Falcon 1'\n",
    "#  keep only Falcon 9 launches\n",
    "data_falcon9 = launch_df[launch_df['BoosterVersion'].str.contains(\"Falcon 9\", na=False)]\n",
    "\n",
    "# Display the filtered DataFrame\n",
    "print(data_falcon9.head())  # Preview the first few rows\n",
    "\n",
    "# Summary of the filtered DataFrame\n",
    "print(data_falcon9.info())\n",
    "print(data_falcon9.shape[0])"
   ]
  },
  {
   "cell_type": "markdown",
   "metadata": {},
   "source": [
    "Now that we have removed some values we should reset the FlgihtNumber column\n"
   ]
  },
  {
   "cell_type": "code",
   "execution_count": 35,
   "metadata": {
    "tags": []
   },
   "outputs": [
    {
     "name": "stdout",
     "output_type": "stream",
     "text": [
      "   FlightNumber                      Date BoosterVersion PayloadMass Orbit  \\\n",
      "4             1  2010-06-04T18:45:00.000Z       Falcon 9        None  None   \n",
      "5             2  2012-05-22T07:44:00.000Z       Falcon 9        None  None   \n",
      "6             3  2013-03-01T19:10:00.000Z       Falcon 9        None  None   \n",
      "7             4  2013-09-29T16:00:00.000Z       Falcon 9        None  None   \n",
      "8             5  2013-12-03T22:41:00.000Z       Falcon 9        None  None   \n",
      "\n",
      "     LaunchSite Outcome Flights GridFins Reused  Legs LandingPad Block  \\\n",
      "4  CCSFS SLC 40    None    None     None   None  None       None  None   \n",
      "5  CCSFS SLC 40    None    None     None   None  None       None  None   \n",
      "6  CCSFS SLC 40    None    None     None   None  None       None  None   \n",
      "7   VAFB SLC 4E    None    None     None   None  None       None  None   \n",
      "8  CCSFS SLC 40    None    None     None   None  None       None  None   \n",
      "\n",
      "  ReusedCount Serial   Longitude   Latitude  \n",
      "4        None   None  -80.577366  28.561857  \n",
      "5        None   None  -80.577366  28.561857  \n",
      "6        None   None  -80.577366  28.561857  \n",
      "7        None   None -120.610829  34.632093  \n",
      "8        None   None  -80.577366  28.561857  \n"
     ]
    }
   ],
   "source": [
    "\n",
    "# Create a copy of the filtered DataFrame\n",
    "data_falcon9 = data_falcon9.copy()\n",
    "\n",
    "# Reset the FlightNumber column\n",
    "data_falcon9.loc[:, 'FlightNumber'] = list(range(1, data_falcon9.shape[0] + 1))\n",
    "\n",
    "# Inspect the updated DataFrame\n",
    "print(data_falcon9.head())\n"
   ]
  },
  {
   "cell_type": "markdown",
   "metadata": {},
   "source": [
    "## Data Wrangling\n"
   ]
  },
  {
   "cell_type": "markdown",
   "metadata": {},
   "source": [
    "We can see below that some of the rows are missing values in our dataset.\n"
   ]
  },
  {
   "cell_type": "code",
   "execution_count": 37,
   "metadata": {
    "tags": []
   },
   "outputs": [
    {
     "name": "stdout",
     "output_type": "stream",
     "text": [
      "168\n"
     ]
    }
   ],
   "source": [
    "data_falcon9.isnull().sum()\n",
    "nullpads = data_falcon9['LandingPad'].isnull().sum()\n",
    "print(nullpads)"
   ]
  },
  {
   "cell_type": "markdown",
   "metadata": {},
   "source": [
    "Before we can continue we must deal with these missing values. The <code>LandingPad</code> column will retain None values to represent when landing pads were not used.\n"
   ]
  },
  {
   "cell_type": "markdown",
   "metadata": {},
   "source": [
    "### Task 3: Dealing with Missing Values\n"
   ]
  },
  {
   "cell_type": "markdown",
   "metadata": {},
   "source": [
    "Calculate below the mean for the <code>PayloadMass</code> using the <code>.mean()</code>. Then use the mean and the <code>.replace()</code> function to replace `np.nan` values in the data with the mean you calculated.\n"
   ]
  },
  {
   "cell_type": "code",
   "execution_count": 46,
   "metadata": {
    "tags": []
   },
   "outputs": [
    {
     "name": "stdout",
     "output_type": "stream",
     "text": [
      "4     NaN\n",
      "5     NaN\n",
      "6     NaN\n",
      "7     NaN\n",
      "8     NaN\n",
      "       ..\n",
      "169   NaN\n",
      "170   NaN\n",
      "171   NaN\n",
      "172   NaN\n",
      "173   NaN\n",
      "Name: PayloadMass, Length: 168, dtype: float64\n"
     ]
    }
   ],
   "source": [
    "# Calculate the mean value of PayloadMass column\n",
    "\n",
    "# Replace the np.nan values with its mean value\n",
    "\n",
    "\n",
    "\n",
    "# Calculate the mean value of the PayloadMass column, excluding NaN values\n",
    "mean_payload_mass = data_falcon9['PayloadMass'].mean()\n",
    "\n",
    "# Replace NaN values in PayloadMass with the calculated mean\n",
    "data_falcon9['PayloadMass'] = data_falcon9['PayloadMass'].fillna(mean_payload_mass)\n",
    "\n",
    "# Inspect the updated column\n",
    "print(data_falcon9['PayloadMass'])\n"
   ]
  },
  {
   "cell_type": "code",
   "execution_count": 38,
   "metadata": {
    "tags": []
   },
   "outputs": [],
   "source": [
    "total_falcon9_launches = data_falcon9.shape[0]"
   ]
  },
  {
   "cell_type": "markdown",
   "metadata": {},
   "source": [
    "You should see the number of missing values of the <code>PayLoadMass</code> change to zero.\n"
   ]
  },
  {
   "cell_type": "code",
   "execution_count": 39,
   "metadata": {
    "tags": []
   },
   "outputs": [
    {
     "name": "stdout",
     "output_type": "stream",
     "text": [
      "     FlightNumber                      Date BoosterVersion PayloadMass Orbit  \\\n",
      "4               1  2010-06-04T18:45:00.000Z       Falcon 9        None  None   \n",
      "5               2  2012-05-22T07:44:00.000Z       Falcon 9        None  None   \n",
      "6               3  2013-03-01T19:10:00.000Z       Falcon 9        None  None   \n",
      "7               4  2013-09-29T16:00:00.000Z       Falcon 9        None  None   \n",
      "8               5  2013-12-03T22:41:00.000Z       Falcon 9        None  None   \n",
      "..            ...                       ...            ...         ...   ...   \n",
      "169           164  2022-08-28T02:22:00.000Z       Falcon 9        None  None   \n",
      "170           165  2022-08-31T05:40:00.000Z       Falcon 9        None  None   \n",
      "171           166  2022-09-17T01:05:00.000Z       Falcon 9        None  None   \n",
      "172           167  2022-09-24T23:30:00.000Z       Falcon 9        None  None   \n",
      "173           168  2022-10-05T16:00:00.000Z       Falcon 9        None  None   \n",
      "\n",
      "       LaunchSite Outcome Flights GridFins Reused  Legs LandingPad Block  \\\n",
      "4    CCSFS SLC 40    None    None     None   None  None       None  None   \n",
      "5    CCSFS SLC 40    None    None     None   None  None       None  None   \n",
      "6    CCSFS SLC 40    None    None     None   None  None       None  None   \n",
      "7     VAFB SLC 4E    None    None     None   None  None       None  None   \n",
      "8    CCSFS SLC 40    None    None     None   None  None       None  None   \n",
      "..            ...     ...     ...      ...    ...   ...        ...   ...   \n",
      "169    KSC LC 39A    None    None     None   None  None       None  None   \n",
      "170   VAFB SLC 4E    None    None     None   None  None       None  None   \n",
      "171  CCSFS SLC 40    None    None     None   None  None       None  None   \n",
      "172  CCSFS SLC 40    None    None     None   None  None       None  None   \n",
      "173    KSC LC 39A    None    None     None   None  None       None  None   \n",
      "\n",
      "    ReusedCount Serial   Longitude   Latitude  \n",
      "4          None   None  -80.577366  28.561857  \n",
      "5          None   None  -80.577366  28.561857  \n",
      "6          None   None  -80.577366  28.561857  \n",
      "7          None   None -120.610829  34.632093  \n",
      "8          None   None  -80.577366  28.561857  \n",
      "..          ...    ...         ...        ...  \n",
      "169        None   None  -80.603956  28.608058  \n",
      "170        None   None -120.610829  34.632093  \n",
      "171        None   None  -80.577366  28.561857  \n",
      "172        None   None  -80.577366  28.561857  \n",
      "173        None   None  -80.603956  28.608058  \n",
      "\n",
      "[168 rows x 17 columns]\n"
     ]
    }
   ],
   "source": [
    "null_landing_pad_rows = data_falcon9[data_falcon9['LandingPad'].isnull()]\n",
    "print(null_landing_pad_rows)"
   ]
  },
  {
   "cell_type": "markdown",
   "metadata": {},
   "source": [
    "Now we should have no missing values in our dataset except for in <code>LandingPad</code>.\n"
   ]
  },
  {
   "cell_type": "markdown",
   "metadata": {},
   "source": [
    "We can now export it to a <b>CSV</b> for the next section,but to make the answers consistent, in the next lab we will provide data in a pre-selected date range. \n"
   ]
  },
  {
   "cell_type": "markdown",
   "metadata": {},
   "source": [
    "<code>data_falcon9.to_csv('dataset_part_1.csv', index=False)</code>\n"
   ]
  },
  {
   "cell_type": "markdown",
   "metadata": {},
   "source": [
    "## Authors\n"
   ]
  },
  {
   "cell_type": "markdown",
   "metadata": {},
   "source": [
    "<a href=\"https://www.linkedin.com/in/joseph-s-50398b136/\">Joseph Santarcangelo</a> has a PhD in Electrical Engineering, his research focused on using machine learning, signal processing, and computer vision to determine how videos impact human cognition. Joseph has been working for IBM since he completed his PhD. \n"
   ]
  },
  {
   "cell_type": "markdown",
   "metadata": {},
   "source": [
    "<!--## Change Log\n",
    "-->\n"
   ]
  },
  {
   "cell_type": "markdown",
   "metadata": {},
   "source": [
    "<!--\n",
    "\n",
    "|Date (YYYY-MM-DD)|Version|Changed By|Change Description|\n",
    "|-|-|-|-|\n",
    "|2020-09-20|1.1|Joseph|get result each time you run|\n",
    "|2020-09-20|1.1|Azim |Created Part 1 Lab using SpaceX API|\n",
    "|2020-09-20|1.0|Joseph |Modified Multiple Areas|\n",
    "-->\n"
   ]
  },
  {
   "cell_type": "markdown",
   "metadata": {},
   "source": [
    "Copyright © 2021 IBM Corporation. All rights reserved.\n"
   ]
  }
 ],
 "metadata": {
  "kernelspec": {
   "display_name": "Python",
   "language": "python",
   "name": "conda-env-python-py"
  },
  "language_info": {
   "codemirror_mode": {
    "name": "ipython",
    "version": 3
   },
   "file_extension": ".py",
   "mimetype": "text/x-python",
   "name": "python",
   "nbconvert_exporter": "python",
   "pygments_lexer": "ipython3",
   "version": "3.7.12"
  },
  "prev_pub_hash": "9fae682d673088bca20f23531422d88c5d45eddda6c66ca390a960fb8e99c74e"
 },
 "nbformat": 4,
 "nbformat_minor": 4
}
